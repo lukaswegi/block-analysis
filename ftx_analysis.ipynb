{
 "cells": [
  {
   "cell_type": "code",
   "execution_count": 1,
   "metadata": {
    "collapsed": true,
    "pycharm": {
     "name": "#%%\n"
    }
   },
   "outputs": [],
   "source": [
    "import os\n",
    "import json\n",
    "from datetime import datetime\n",
    "import pandas as pd\n",
    "import matplotlib.pyplot as plt\n",
    "import numpy as np\n",
    "import web3"
   ]
  },
  {
   "cell_type": "code",
   "execution_count": 2,
   "outputs": [
    {
     "data": {
      "text/plain": "True"
     },
     "execution_count": 2,
     "metadata": {},
     "output_type": "execute_result"
    }
   ],
   "source": [
    "web3_geth = web3.Web3(web3.Web3.HTTPProvider(\"http://127.0.0.1:8546\",request_kwargs={'timeout': 3600}))\n",
    "web3_geth.isConnected()"
   ],
   "metadata": {
    "collapsed": false,
    "pycharm": {
     "name": "#%%\n"
    }
   }
  },
  {
   "cell_type": "code",
   "execution_count": 3,
   "outputs": [
    {
     "data": {
      "text/plain": "True"
     },
     "execution_count": 3,
     "metadata": {},
     "output_type": "execute_result"
    }
   ],
   "source": [
    "web3_erigon = web3.Web3(web3.Web3.HTTPProvider(\"http://127.0.0.1:8545\",request_kwargs={'timeout': 3600}))\n",
    "web3_erigon.isConnected()"
   ],
   "metadata": {
    "collapsed": false,
    "pycharm": {
     "name": "#%%\n"
    }
   }
  },
  {
   "cell_type": "code",
   "execution_count": 25,
   "outputs": [],
   "source": [
    "class Account:\n",
    "    def __init__(self):\n",
    "        self.account_balance_mainnet = []\n",
    "        self.account_balance_fork = []\n",
    "        self.first_block = 15537393\n",
    "        self.last_mainnet_block = 15537420\n",
    "        self.address = 0"
   ],
   "metadata": {
    "collapsed": false,
    "pycharm": {
     "name": "#%%\n"
    }
   }
  },
  {
   "cell_type": "markdown",
   "source": [
    "### Filter all transaction where FTX is involved to extract relevant account balances"
   ],
   "metadata": {
    "collapsed": false,
    "pycharm": {
     "name": "#%% md\n"
    }
   }
  },
  {
   "cell_type": "code",
   "execution_count": 26,
   "outputs": [],
   "source": [
    "ftx_accounts = pd.read_csv(\"csv/ftx.csv\")"
   ],
   "metadata": {
    "collapsed": false,
    "pycharm": {
     "name": "#%%\n"
    }
   }
  },
  {
   "cell_type": "code",
   "execution_count": 27,
   "outputs": [],
   "source": [
    "account_list = ftx_accounts[\"accounts\"].tolist()"
   ],
   "metadata": {
    "collapsed": false,
    "pycharm": {
     "name": "#%%\n"
    }
   }
  },
  {
   "cell_type": "code",
   "execution_count": 28,
   "outputs": [],
   "source": [
    "account_balances = []"
   ],
   "metadata": {
    "collapsed": false,
    "pycharm": {
     "name": "#%%\n"
    }
   }
  },
  {
   "cell_type": "code",
   "execution_count": 29,
   "outputs": [],
   "source": [
    "for index, address in enumerate(account_list):\n",
    "    account = Account()\n",
    "    account_balance_mainnet = []\n",
    "    account_balance_fork = []\n",
    "    for block_index_mainnet in range(15537393, 15537420):\n",
    "        amount = web3_geth.eth.get_balance(web3_geth.toChecksumAddress(address), block_index_mainnet)\n",
    "        account_balance_mainnet.append(amount)\n",
    "\n",
    "    for block_index_fork in range(15537393, 15537420):\n",
    "        amount = web3_erigon.eth.get_balance(web3_erigon.toChecksumAddress(address), block_index_fork)\n",
    "        account_balance_fork.append(amount)\n",
    "    account.account_balance_mainnet = account_balance_mainnet\n",
    "    account.account_balance_fork = account_balance_fork\n",
    "    account.last_mainnet_block = 15537420\n",
    "    account.address = address\n",
    "    account_balances.append(account)"
   ],
   "metadata": {
    "collapsed": false,
    "pycharm": {
     "name": "#%%\n"
    }
   }
  },
  {
   "cell_type": "code",
   "execution_count": null,
   "outputs": [],
   "source": [
    "for account in account_balances:\n",
    "    mainnet_balance_ether = [x / 10**18 for x in account.account_balance_mainnet]\n",
    "    fork_balance_ether = [x / 10**18 for x in account.account_balance_fork]\n",
    "    plt.figure(facecolor='white')\n",
    "    plt.plot(mainnet_balance_ether, label=\"Mainnet\", color=\"red\")\n",
    "    plt.plot(fork_balance_ether, label=\"Fork\", color=\"blue\")\n",
    "    plt.legend()\n",
    "    plt.xlabel(\"Block Range\")\n",
    "    plt.ylabel(\"Balance (in Ether)\")\n",
    "\n",
    "    fig = plt.gcf()\n",
    "    fig.set_dpi(90)\n",
    "    fig.set_figwidth(11)\n",
    "    fig.set_figheight(6)\n",
    "    fig.savefig(\"graphs/account_balance_ftx/\" + str(account.address), dpi=300)"
   ],
   "metadata": {
    "collapsed": false,
    "pycharm": {
     "name": "#%%\n",
     "is_executing": true
    }
   }
  },
  {
   "cell_type": "code",
   "execution_count": null,
   "outputs": [],
   "source": [],
   "metadata": {
    "collapsed": false,
    "pycharm": {
     "name": "#%%\n"
    }
   }
  }
 ],
 "metadata": {
  "kernelspec": {
   "display_name": "Python 3",
   "language": "python",
   "name": "python3"
  },
  "language_info": {
   "codemirror_mode": {
    "name": "ipython",
    "version": 2
   },
   "file_extension": ".py",
   "mimetype": "text/x-python",
   "name": "python",
   "nbconvert_exporter": "python",
   "pygments_lexer": "ipython2",
   "version": "2.7.6"
  }
 },
 "nbformat": 4,
 "nbformat_minor": 0
}