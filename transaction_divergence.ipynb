{
 "cells": [
  {
   "cell_type": "code",
   "execution_count": 72,
   "metadata": {
    "collapsed": true,
    "pycharm": {
     "name": "#%%\n"
    }
   },
   "outputs": [],
   "source": [
    "import os\n",
    "import json\n",
    "import requests\n",
    "from datetime import datetime\n",
    "import web3\n",
    "import pandas as pd\n",
    "import matplotlib.pyplot as plt\n",
    "from scipy.signal import resample"
   ]
  },
  {
   "cell_type": "code",
   "execution_count": 73,
   "outputs": [
    {
     "data": {
      "text/plain": "True"
     },
     "execution_count": 73,
     "metadata": {},
     "output_type": "execute_result"
    }
   ],
   "source": [
    "web3_geth = web3.Web3(web3.Web3.HTTPProvider(\"http://127.0.0.1:8546\",request_kwargs={'timeout': 3600}))\n",
    "web3_geth.isConnected()"
   ],
   "metadata": {
    "collapsed": false,
    "pycharm": {
     "name": "#%%\n"
    }
   }
  },
  {
   "cell_type": "code",
   "execution_count": 74,
   "outputs": [
    {
     "data": {
      "text/plain": "True"
     },
     "execution_count": 74,
     "metadata": {},
     "output_type": "execute_result"
    }
   ],
   "source": [
    "web3_erigon = web3.Web3(web3.Web3.HTTPProvider(\"http://127.0.0.1:8545\",request_kwargs={'timeout': 3600}))\n",
    "web3_erigon.isConnected()"
   ],
   "metadata": {
    "collapsed": false,
    "pycharm": {
     "name": "#%%\n"
    }
   }
  },
  {
   "cell_type": "markdown",
   "source": [
    "## Account Balance divergence - Transaction based"
   ],
   "metadata": {
    "collapsed": false,
    "pycharm": {
     "name": "#%% md\n"
    }
   }
  },
  {
   "cell_type": "markdown",
   "source": [
    "We know the last transaction of our transaction list is in block 15697654 in the Mainnet so we assume that this is the last block for consideration\n",
    "0xAE62993477095e5b09e4cA9aa7732F34D25197AC\n",
    "Start block is always: 15537393\n",
    "Last block for forked chain is 15537420"
   ],
   "metadata": {
    "collapsed": false,
    "pycharm": {
     "name": "#%% md\n"
    }
   }
  },
  {
   "cell_type": "code",
   "execution_count": 55,
   "outputs": [],
   "source": [
    "tx_fork = pd.read_csv(\"tx_fork.csv\")\n",
    "tx_mainnet = pd.read_csv(\"transactions_mainnet.csv\")"
   ],
   "metadata": {
    "collapsed": false,
    "pycharm": {
     "name": "#%%\n"
    }
   }
  },
  {
   "cell_type": "markdown",
   "source": [
    "We will \"only analyze the top 30 accounts -> they have at least 10 transactions)"
   ],
   "metadata": {
    "collapsed": false,
    "pycharm": {
     "name": "#%% md\n"
    }
   }
  },
  {
   "cell_type": "code",
   "execution_count": 89,
   "outputs": [],
   "source": [
    "top_30 = tx_fork[\"sender\"].value_counts().keys()[:30]"
   ],
   "metadata": {
    "collapsed": false,
    "pycharm": {
     "name": "#%%\n"
    }
   }
  },
  {
   "cell_type": "code",
   "execution_count": 104,
   "outputs": [],
   "source": [
    "account_balances = []"
   ],
   "metadata": {
    "collapsed": false,
    "pycharm": {
     "name": "#%%\n"
    }
   }
  },
  {
   "cell_type": "code",
   "execution_count": 105,
   "outputs": [],
   "source": [
    "class Account:\n",
    "    def __init__(self):\n",
    "        self.account_balance_mainnet = []\n",
    "        self.account_balance_fork = []\n",
    "        self.first_block = 15537393\n",
    "        self.last_mainnet_block = 0\n",
    "        self.address = 0\n"
   ],
   "metadata": {
    "collapsed": false,
    "pycharm": {
     "name": "#%%\n"
    }
   }
  },
  {
   "cell_type": "code",
   "execution_count": 156,
   "outputs": [
    {
     "name": "stdout",
     "output_type": "stream",
     "text": [
      "20\n",
      "0x3df9aF02B8EFE52855ba8C2b8B138bAF3B51F1Bc\n",
      "21\n",
      "0xCf1CfF27a705ACce78788C78Fb61D3F87801a423\n",
      "22\n",
      "0x0039b625b1d8632C7a0057c964EC58a9F39789d3\n",
      "23\n",
      "0x479Bc00624e58398f4Cf59D78884d12Fb515790A\n",
      "24\n",
      "0x3443006ED920730005D88267c49f77aBcde749AF\n",
      "25\n",
      "0xddB561Ca97F0D1A800B4ad230042d3BF5B7Da3aA\n",
      "26\n",
      "0x34EC9E3A1aC200ea58744Ced891015152130E400\n",
      "27\n",
      "0x5E2B6c6B2240d582995537D3FafdB556E4A3822F\n",
      "28\n",
      "0x625f511C4E66B82750BC6bFe6Ce6C16c076A313b\n",
      "29\n",
      "0xeB6c4bE4b92a52e969F4bF405025D997703D5383\n"
     ]
    }
   ],
   "source": [
    "for index, address in enumerate(top_30[20:], 20):\n",
    "    print(index)\n",
    "    print(address)\n",
    "    account = Account()\n",
    "    account_balance_mainnet = []\n",
    "    account_balance_fork = []\n",
    "    last_block = tx_mainnet[tx_mainnet[\"sender\"] == address][\"block_number\"].max()\n",
    "    for block_index_mainnet in range(15537393, last_block):\n",
    "        amount = web3_geth.eth.get_balance(address, block_index_mainnet)\n",
    "        account_balance_mainnet.append(amount)\n",
    "\n",
    "    for block_index_fork in range(15537393, 15537420):\n",
    "        amount = web3_erigon.eth.get_balance(address, block_index_fork)\n",
    "        account_balance_fork.append(amount)\n",
    "    account.account_balance_mainnet = account_balance_mainnet\n",
    "    account.account_balance_fork = account_balance_fork\n",
    "    account.last_mainnet_block = last_block\n",
    "    account.address = address\n",
    "    account_balances.append(account)\n"
   ],
   "metadata": {
    "collapsed": false,
    "pycharm": {
     "name": "#%%\n"
    }
   }
  },
  {
   "cell_type": "code",
   "execution_count": 201,
   "outputs": [],
   "source": [
    "scaler = int((len(account_balances[13].account_balance_mainnet) / (len(account_balances[13].account_balance_fork))))"
   ],
   "metadata": {
    "collapsed": false,
    "pycharm": {
     "name": "#%%\n"
    }
   }
  },
  {
   "cell_type": "code",
   "execution_count": 211,
   "outputs": [
    {
     "data": {
      "text/plain": "32"
     },
     "execution_count": 211,
     "metadata": {},
     "output_type": "execute_result"
    }
   ],
   "source": [
    "len(account_balances[13].account_balance_mainnet)"
   ],
   "metadata": {
    "collapsed": false,
    "pycharm": {
     "name": "#%%\n"
    }
   }
  },
  {
   "cell_type": "code",
   "execution_count": 213,
   "outputs": [
    {
     "data": {
      "text/plain": "[19878047789628304016]"
     },
     "execution_count": 213,
     "metadata": {},
     "output_type": "execute_result"
    }
   ],
   "source": [
    "account_balances[13].account_balance_mainnet[::scaler]"
   ],
   "metadata": {
    "collapsed": false,
    "pycharm": {
     "name": "#%%\n"
    }
   }
  },
  {
   "cell_type": "code",
   "execution_count": null,
   "outputs": [],
   "source": [
    "for account in account_balances:\n",
    "    plt.figure(facecolor='white')\n",
    "    plt.plot(resample(account.account_balance_mainnet, 26), label=\"Mainnet\", color=\"red\")\n",
    "    plt.plot(account.account_balance_fork, label=\"Fork\", color=\"blue\")\n",
    "    plt.legend()\n",
    "\n",
    "\n",
    "    fig = plt.gcf()\n",
    "    fig.set_dpi(90)\n",
    "    fig.set_figwidth(11)\n",
    "    fig.set_figheight(6)\n",
    "    fig.savefig(\"graphs/account_balance/\" + str(account.address), dpi=300)"
   ],
   "metadata": {
    "collapsed": false,
    "pycharm": {
     "name": "#%%\n",
     "is_executing": true
    }
   }
  },
  {
   "cell_type": "code",
   "execution_count": 166,
   "outputs": [],
   "source": [
    "data = [account.__dict__ for account in account_balances]"
   ],
   "metadata": {
    "collapsed": false,
    "pycharm": {
     "name": "#%%\n"
    }
   }
  },
  {
   "cell_type": "code",
   "execution_count": 167,
   "outputs": [],
   "source": [
    "for index, account in enumerate(data):\n",
    "    with open(\"accounts_json/\" + str(index) + \".json\", \"w\") as outfile:\n",
    "        json.dump(account, outfile, default=str)"
   ],
   "metadata": {
    "collapsed": false,
    "pycharm": {
     "name": "#%%\n"
    }
   }
  },
  {
   "cell_type": "markdown",
   "source": [
    "### Transaction statistics"
   ],
   "metadata": {
    "collapsed": false,
    "pycharm": {
     "name": "#%% md\n"
    }
   }
  },
  {
   "cell_type": "code",
   "execution_count": 3,
   "outputs": [],
   "source": [
    "tx_fork = pd.read_csv(\"csv/tx_fork.csv\")"
   ],
   "metadata": {
    "collapsed": false,
    "pycharm": {
     "name": "#%%\n"
    }
   }
  },
  {
   "cell_type": "code",
   "execution_count": 4,
   "outputs": [
    {
     "data": {
      "text/plain": "      block_number                                               hash  \\\n0       15537406.0  0xb77b6e50992a07d2279fb6671b801b669bb0df18f189...   \n1       15537406.0  0x51dd7a1de794a6861636c1fe7615b9cabd1e1a36cf68...   \n2       15537406.0  0xa589aa1047affdb6f2c46ea56f05ef36ab72451deac9...   \n3       15537406.0  0xdcef06e13fca017ec02a5c68cb68cebb6295385206e3...   \n4       15537406.0  0x74c4d67f0e5774eaa8cb3ab33a4ef7cb2297cccf0ab6...   \n...            ...                                                ...   \n6590    15537403.0  0xec0b7c4dcdc458193cfa48922c82ebc41493b0efe1fc...   \n6591    15537403.0  0xef68642278c1eb3b1b2c3b52a394f62d95abbd45f633...   \n6592    15537403.0  0xb82326f1cdadae7f2ea0541d6c2d3cf55e208e8143ea...   \n6593    15537403.0  0x2f44faf38603e946dd15515b9255f9a4ee00e4a6b9b2...   \n6594    15537403.0  0x960aac22bc21542682420496841822ac95f58a62d242...   \n\n                                          sender  \\\n0     0x65Fb9DB5fC926eB22aC5ae86e74242e0df44718c   \n1     0xd7E1236C08731C3632519DCd1A581bFe6876a3B2   \n2     0xA43B1D1B6ac23c13038f2aC8bdFC0191a4542e6d   \n3     0xC665A60F22dDa926B920DEB8FFAC0EF9D8a17460   \n4     0x00006196242a1D328fe4B636995e796cb6c7a2Ac   \n...                                          ...   \n6590  0xCa7b6DaF018Be733E3570884E44EB91189CdAC23   \n6591  0xAB9e1DDf806a20C9B06A94c655a59C3eDF495Ca5   \n6592  0x087A7AFB6975A2837453BE685EB6272576c0bC06   \n6593  0xa757100141224EA375B160b76c46f78c36b2Da96   \n6594  0x24FE681230Ee4fa0FF370c177B454089b881dE3D   \n\n                                        receiver              value       gas  \\\n0     0x24902AA0cf0000a08c0EA0b003B0c0bF600000E0                  0  660583.0   \n1     0x5f62593C70069AbB35dFe2B63db969e8906609d6                  0  332631.0   \n2     0xe2fB568edF0e4aC65B7e9f132Eb513148E3f0bcF   5501642089727004   21000.0   \n3     0x68b3465833fb72A70ecDF485E0e4C7bD8665Fc45   6310705001420515  209390.0   \n4     0x00000000AE347930bD1E7B0F35588b92280f9e75                  0  500000.0   \n...                                          ...                ...       ...   \n6590  0xdAC17F958D2ee523a2206206994597C13D831ec7                  0   58676.0   \n6591  0xE42caD6fC883877A76A26A16ed92444ab177E306                  0   40195.0   \n6592  0x087A7AFB6975A2837453BE685EB6272576c0bC06  10000000000000000   21000.0   \n6593  0xa757100141224EA375B160b76c46f78c36b2Da96                  0   21000.0   \n6594  0xf5fdc5628489004efaE0d88BDC2adb9FFFBbd287   1000000000000000   21000.0   \n\n         gas_price  status  \n0     7.492152e+11    True  \n1     1.543166e+11    True  \n2     3.359460e+12    True  \n3     1.000000e+12    True  \n4     5.533038e+11    True  \n...            ...     ...  \n6590  1.428296e+11    True  \n6591  1.428296e+11    True  \n6592  1.428296e+11    True  \n6593  1.428296e+11    True  \n6594  1.428296e+11    True  \n\n[6595 rows x 8 columns]",
      "text/html": "<div>\n<style scoped>\n    .dataframe tbody tr th:only-of-type {\n        vertical-align: middle;\n    }\n\n    .dataframe tbody tr th {\n        vertical-align: top;\n    }\n\n    .dataframe thead th {\n        text-align: right;\n    }\n</style>\n<table border=\"1\" class=\"dataframe\">\n  <thead>\n    <tr style=\"text-align: right;\">\n      <th></th>\n      <th>block_number</th>\n      <th>hash</th>\n      <th>sender</th>\n      <th>receiver</th>\n      <th>value</th>\n      <th>gas</th>\n      <th>gas_price</th>\n      <th>status</th>\n    </tr>\n  </thead>\n  <tbody>\n    <tr>\n      <th>0</th>\n      <td>15537406.0</td>\n      <td>0xb77b6e50992a07d2279fb6671b801b669bb0df18f189...</td>\n      <td>0x65Fb9DB5fC926eB22aC5ae86e74242e0df44718c</td>\n      <td>0x24902AA0cf0000a08c0EA0b003B0c0bF600000E0</td>\n      <td>0</td>\n      <td>660583.0</td>\n      <td>7.492152e+11</td>\n      <td>True</td>\n    </tr>\n    <tr>\n      <th>1</th>\n      <td>15537406.0</td>\n      <td>0x51dd7a1de794a6861636c1fe7615b9cabd1e1a36cf68...</td>\n      <td>0xd7E1236C08731C3632519DCd1A581bFe6876a3B2</td>\n      <td>0x5f62593C70069AbB35dFe2B63db969e8906609d6</td>\n      <td>0</td>\n      <td>332631.0</td>\n      <td>1.543166e+11</td>\n      <td>True</td>\n    </tr>\n    <tr>\n      <th>2</th>\n      <td>15537406.0</td>\n      <td>0xa589aa1047affdb6f2c46ea56f05ef36ab72451deac9...</td>\n      <td>0xA43B1D1B6ac23c13038f2aC8bdFC0191a4542e6d</td>\n      <td>0xe2fB568edF0e4aC65B7e9f132Eb513148E3f0bcF</td>\n      <td>5501642089727004</td>\n      <td>21000.0</td>\n      <td>3.359460e+12</td>\n      <td>True</td>\n    </tr>\n    <tr>\n      <th>3</th>\n      <td>15537406.0</td>\n      <td>0xdcef06e13fca017ec02a5c68cb68cebb6295385206e3...</td>\n      <td>0xC665A60F22dDa926B920DEB8FFAC0EF9D8a17460</td>\n      <td>0x68b3465833fb72A70ecDF485E0e4C7bD8665Fc45</td>\n      <td>6310705001420515</td>\n      <td>209390.0</td>\n      <td>1.000000e+12</td>\n      <td>True</td>\n    </tr>\n    <tr>\n      <th>4</th>\n      <td>15537406.0</td>\n      <td>0x74c4d67f0e5774eaa8cb3ab33a4ef7cb2297cccf0ab6...</td>\n      <td>0x00006196242a1D328fe4B636995e796cb6c7a2Ac</td>\n      <td>0x00000000AE347930bD1E7B0F35588b92280f9e75</td>\n      <td>0</td>\n      <td>500000.0</td>\n      <td>5.533038e+11</td>\n      <td>True</td>\n    </tr>\n    <tr>\n      <th>...</th>\n      <td>...</td>\n      <td>...</td>\n      <td>...</td>\n      <td>...</td>\n      <td>...</td>\n      <td>...</td>\n      <td>...</td>\n      <td>...</td>\n    </tr>\n    <tr>\n      <th>6590</th>\n      <td>15537403.0</td>\n      <td>0xec0b7c4dcdc458193cfa48922c82ebc41493b0efe1fc...</td>\n      <td>0xCa7b6DaF018Be733E3570884E44EB91189CdAC23</td>\n      <td>0xdAC17F958D2ee523a2206206994597C13D831ec7</td>\n      <td>0</td>\n      <td>58676.0</td>\n      <td>1.428296e+11</td>\n      <td>True</td>\n    </tr>\n    <tr>\n      <th>6591</th>\n      <td>15537403.0</td>\n      <td>0xef68642278c1eb3b1b2c3b52a394f62d95abbd45f633...</td>\n      <td>0xAB9e1DDf806a20C9B06A94c655a59C3eDF495Ca5</td>\n      <td>0xE42caD6fC883877A76A26A16ed92444ab177E306</td>\n      <td>0</td>\n      <td>40195.0</td>\n      <td>1.428296e+11</td>\n      <td>True</td>\n    </tr>\n    <tr>\n      <th>6592</th>\n      <td>15537403.0</td>\n      <td>0xb82326f1cdadae7f2ea0541d6c2d3cf55e208e8143ea...</td>\n      <td>0x087A7AFB6975A2837453BE685EB6272576c0bC06</td>\n      <td>0x087A7AFB6975A2837453BE685EB6272576c0bC06</td>\n      <td>10000000000000000</td>\n      <td>21000.0</td>\n      <td>1.428296e+11</td>\n      <td>True</td>\n    </tr>\n    <tr>\n      <th>6593</th>\n      <td>15537403.0</td>\n      <td>0x2f44faf38603e946dd15515b9255f9a4ee00e4a6b9b2...</td>\n      <td>0xa757100141224EA375B160b76c46f78c36b2Da96</td>\n      <td>0xa757100141224EA375B160b76c46f78c36b2Da96</td>\n      <td>0</td>\n      <td>21000.0</td>\n      <td>1.428296e+11</td>\n      <td>True</td>\n    </tr>\n    <tr>\n      <th>6594</th>\n      <td>15537403.0</td>\n      <td>0x960aac22bc21542682420496841822ac95f58a62d242...</td>\n      <td>0x24FE681230Ee4fa0FF370c177B454089b881dE3D</td>\n      <td>0xf5fdc5628489004efaE0d88BDC2adb9FFFBbd287</td>\n      <td>1000000000000000</td>\n      <td>21000.0</td>\n      <td>1.428296e+11</td>\n      <td>True</td>\n    </tr>\n  </tbody>\n</table>\n<p>6595 rows × 8 columns</p>\n</div>"
     },
     "execution_count": 4,
     "metadata": {},
     "output_type": "execute_result"
    }
   ],
   "source": [
    "tx_fork"
   ],
   "metadata": {
    "collapsed": false,
    "pycharm": {
     "name": "#%%\n"
    }
   }
  },
  {
   "cell_type": "code",
   "execution_count": 5,
   "outputs": [],
   "source": [
    "gas_mean = tx_fork[\"gas\"].mean()\n",
    "gas_price_mean = tx_fork[\"gas_price\"].mean()"
   ],
   "metadata": {
    "collapsed": false,
    "pycharm": {
     "name": "#%%\n"
    }
   }
  },
  {
   "cell_type": "code",
   "execution_count": 6,
   "outputs": [],
   "source": [
    "fork_gas_mean = tx_fork.loc[tx_fork[\"status\"] == False][\"gas\"].mean()\n",
    "fork_gas_price_mean = tx_fork.loc[tx_fork[\"status\"] == False][\"gas_price\"].mean()"
   ],
   "metadata": {
    "collapsed": false,
    "pycharm": {
     "name": "#%%\n"
    }
   }
  },
  {
   "cell_type": "code",
   "execution_count": 7,
   "outputs": [],
   "source": [
    "main_gas_mean = tx_fork.loc[tx_fork[\"status\"] == True][\"gas\"].mean()\n",
    "main_gas_price_mean = tx_fork.loc[tx_fork[\"status\"] == True][\"gas_price\"].mean()"
   ],
   "metadata": {
    "collapsed": false,
    "pycharm": {
     "name": "#%%\n"
    }
   }
  },
  {
   "cell_type": "code",
   "execution_count": 8,
   "outputs": [],
   "source": [
    "price_df = pd.DataFrame(columns=[\"Total Mean Gas\", \"Total Mean Gas Price\",\n",
    "                                 \"Fork Only Mean Gas\", \"Fork Only Mean Gas Price\",\n",
    "                                 \"Mainnet Mean Gas\", \"Mainnet Mean Gas Price\"])"
   ],
   "metadata": {
    "collapsed": false,
    "pycharm": {
     "name": "#%%\n"
    }
   }
  },
  {
   "cell_type": "code",
   "execution_count": 9,
   "outputs": [],
   "source": [
    "price_df[\"Total Mean Gas\"] = gas_mean"
   ],
   "metadata": {
    "collapsed": false,
    "pycharm": {
     "name": "#%%\n"
    }
   }
  },
  {
   "cell_type": "code",
   "execution_count": 10,
   "outputs": [],
   "source": [
    "price_df.loc[0] = [gas_mean, gas_price_mean, fork_gas_mean, fork_gas_price_mean, main_gas_mean, main_gas_price_mean]"
   ],
   "metadata": {
    "collapsed": false,
    "pycharm": {
     "name": "#%%\n"
    }
   }
  },
  {
   "cell_type": "code",
   "execution_count": 11,
   "outputs": [],
   "source": [
    "price_df.to_csv(\"csv/mean_transaction.csv\")"
   ],
   "metadata": {
    "collapsed": false,
    "pycharm": {
     "name": "#%%\n"
    }
   }
  },
  {
   "cell_type": "markdown",
   "source": [
    "## Account Balance divergence - Block based\n",
    "Here we use a tracer to extract all transactions, including internal transactions"
   ],
   "metadata": {
    "collapsed": false,
    "pycharm": {
     "name": "#%% md\n"
    }
   }
  },
  {
   "cell_type": "code",
   "execution_count": 78,
   "outputs": [],
   "source": [
    "addresses = set()"
   ],
   "metadata": {
    "collapsed": false,
    "pycharm": {
     "name": "#%%\n"
    }
   }
  },
  {
   "cell_type": "code",
   "execution_count": 79,
   "outputs": [],
   "source": [
    "def get_addresses(data):\n",
    "    if 'from' in data and 'to' in data:\n",
    "        addresses.add(data['from'])\n",
    "        addresses.add(data['to'])\n",
    "    if 'calls' in data:\n",
    "        for child in data['calls']:\n",
    "            get_addresses(child)\n"
   ],
   "metadata": {
    "collapsed": false,
    "pycharm": {
     "name": "#%%\n"
    }
   }
  },
  {
   "cell_type": "code",
   "execution_count": 80,
   "outputs": [],
   "source": [
    "for block_number in range(15537393, 15537420):\n",
    "    url = \"http://localhost:8545\"\n",
    "    headers = {\"Content-Type\": \"application/json\"}\n",
    "\n",
    "    data = {\n",
    "        \"id\": 1,\n",
    "        \"method\": \"debug_traceBlockByNumber\",\n",
    "        \"params\": [block_number, {\"tracer\": \"callTracer\"}]\n",
    "    }\n",
    "\n",
    "    response = requests.post(url, headers=headers, data=json.dumps(data))\n",
    "    transactions = response.json()[\"result\"]\n",
    "    for transaction in transactions:\n",
    "        get_addresses(transaction)\n"
   ],
   "metadata": {
    "collapsed": false,
    "pycharm": {
     "name": "#%%\n"
    }
   }
  },
  {
   "cell_type": "code",
   "execution_count": 97,
   "outputs": [],
   "source": [
    "address_balance = {}\n",
    "for address in addresses:\n",
    "    amount_geth = web3_geth.eth.get_balance(web3_geth.toChecksumAddress(address), 15537420)\n",
    "    amount_erigon = web3_erigon.eth.get_balance(web3_erigon.toChecksumAddress(address), 15537420)\n",
    "\n",
    "    address_balance[address] = (amount_geth, amount_erigon)"
   ],
   "metadata": {
    "collapsed": false,
    "pycharm": {
     "name": "#%%\n"
    }
   }
  },
  {
   "cell_type": "code",
   "execution_count": 98,
   "outputs": [
    {
     "data": {
      "text/plain": "{'0x85df0debb5758a2f282a1aace604ea0cd6337665': (1203046228303061481,\n  1170580578527324521),\n '0x08359e9691bb743239713213fe4576c2ff7aefc0': (32219064123551878,\n  33951359123551878),\n '0xdb28719f7f938507dbfe4f0eae55668903d34a15': (0, 0),\n '0xa0cc856ff5621ca9ba3a22b0c21f9de15f42cd87': (0, 0),\n '0x41de296570eacbbeffebb27d14530ed7f2bc9b23': (88728581210815000,\n  88561115974177000),\n '0x2ad76512ee8f74f419329213b06440544451db78': (0, 0),\n '0x2dbd1b3535c787ab2f8e00a5adeceb10f219575a': (0, 0),\n '0x052311d4a56d75d211d85fba9d95d1bbb412488a': (79811000000000000,\n  19411727669324818837),\n '0x9dfad1b7102d46b1b197b90095b5c4e9f5845bba': (0, 0),\n '0x738aaed7c783ac2de6f9804496d1ace497ab0a2b': (663200794285151005,\n  662009621520971005),\n '0x7564c82b7c65b3034fb567de50184d75c3989d80': (0, 8998999990000000000),\n '0xfa6ae0942177e41a40f8f01eed98d1200b66544d': (0, 0),\n '0x5483b932e3d83b5eb6c46bda5fb0a4d9f4079f96': (12518274883845791826,\n  12518456735436383826),\n '0x1e0447b19bb6ecfdae1e4ae1694b0c3659614e4e': (0, 0),\n '0x2a1530c4c41db0b0b2bb646cb5eb1a67b7158667': (130093806896566179374,\n  129137665861926845844),\n '0x3058ef90929cb8180174d74c507176cca6835d73': (0, 0),\n '0x3cb84de78b8fb05aa0d64393bfc332e37af342d5': (47219464501375140,\n  53487864501375140),\n '0xbe5dab4a2e9cd0f27300db4ab94bee3a233aeb19': (0, 0),\n '0x130aea9ddc0d03a5f4c9dd9ad0972517f20f94d6': (485826944812601000,\n  497653184812601000),\n '0xb0bd53e103dbd9efba9e4c07ff5b3883a666b78a': (130547466209146743,\n  123550922869284756),\n '0x9d3a921113efdea8755b4238a9fdebe34f262002': (0, 4930570000000000),\n '0x4c08a72a847e5e11ffa6c65cc6932c1cd01b1ab4': (272603338109373201,\n  264911383784741353),\n '0x1884e47c3b735a9c8ec44325dc15b5c299d03613': (541793681067539842,\n  541793681067539842),\n '0xfef7d292db934e06c2f0243541cd936cc824be20': (27541895563369000,\n  54040935563369000),\n '0x330f620168e2f3c2bdba60b68574b74358611688': (86061846810519390250,\n  86047866569187623939),\n '0xc90cea2684dc50c29b0efe6bcb7e4f5bf58c43dd': (1823436864932639,\n  13198976864932639),\n '0xa72b7112d083e6492d4cca2e09df562d952297c4': (0, 0),\n '0xf9adb4852142fa22d8de96c7cfceee500803f1f1': (10651121385412426,\n  10651121385412426),\n '0x24c8cfb8dddefea8987783f2f828d2602090dce7': (367836831894000,\n  120367836831894000),\n '0x736e0f8313373d101511eaa2ce843aa74f35344e': (86882298844524024519,\n  86882298844524024519),\n '0xfc70bf66024292a1753860f39c5cc39bd3d28673': (624538019658303,\n  6624538019658303),\n '0xe328361fa5bd042c27bf119519cdb7e70400f5ed': (1275455680193668297,\n  1328776126165015406),\n '0x3d8a3a7e307dec6891e4235eebe93befe3a1e043': (0, 0),\n '0x1a0b15f07911d65cea75aa30bd79d4cd16837b59': (356316561326786419,\n  2609384323104415579),\n '0x8cdc0a9815e7c4623762dd91d30eac25b58c4a88': (0, 106715848206156292),\n '0x5e3fdb22ac6d60a9fd86027e49f841e5f7bc3f56': (0, 219105100000000000),\n '0x4585fe77225b41b697c938b018e2ac67ac5a20c0': (0, 0),\n '0x39c4a92dc506300c3ea4c67ca4ca611102ee6f2a': (0, 0),\n '0xa788c832c349d7833166a3eaaaa95761f6eb1074': (18773632868748094,\n  837773632868748094),\n '0xd85d113ba2069a84feb6e1527205dce28760aadc': (0, 12375000000000000),\n '0x24179cd81c9e782a4096035f7ec97fb8b783e007': (0, 0),\n '0x104fc8d05dbc88b251bc3c94e21d33dc2c7c0f15': (56468323244949634,\n  31377306333665724),\n '0xfa5c080ee1eed4d373b02496fd6b34e107f11e39': (0, 2500000000000000),\n '0xc182bd3c0a96b8765358a54d77d56c2cb1af8aac': (2552752532959547918,\n  2324407004504728844),\n '0x66d55c2b52e8f371a9439dbafe73436f7972a98f': (11000000000000000,\n  11000000000000000),\n '0xa289364347bfc1912ab672425abe593ec01ca56e': (1751897313671099154,\n  1751994518938328154),\n '0x6c1f2f625d77fc555f6ddb07e527e0466e6787fc': (28052618700674630,\n  26940583393358798),\n '0xaac957a8264124d93d42ede793356e49d0ef5c88': (449625306290311645,\n  449462906866222645),\n '0xa08aba528da538cd3547a73c93d51b90201294b6': (1286987814681170385,\n  1286987814681170385),\n '0xc9c32cd16bf7efb85ff14e0c8603cc90f6f2ee49': (0, 0),\n '0xd8a313cfa9ddb3a74ef859ddc1610d5103b7f7b5': (69573831859303593,\n  69735441125632593),\n '0x68526a4295236d2f18ceda8a200cddd5aab9e2cc': (2831695036929410416,\n  94831850036929410416),\n '0x1e4ede388cbc9f4b5c79681b7f94d36a11abebc9': (0, 0),\n '0xb97167440c95fd6df9053b813855d5bdca557409': (242597316167292293,\n  238432610707905653),\n '0x86f95f0a25e023346f4ac32b25ebcfa593120d45': (0, 0),\n '0xa89a201ff665392083efb482646aaebee2e7c56d': (924493352947157,\n  30886213352947157),\n '0x6bae14436531a27d08a524d9ce32c22ae88fb969': (19812090394131179,\n  1000116811990394131179),\n '0xfb209827c58283535b744575e11953dcc4bead88': (2000000000000000000,\n  2000000000000000000),\n '0xd8872c13151bd3b0f8a56af2f0b70ade369dac74': (24292090979345271,\n  7507840979345271),\n '0xc13eac3b4f9eed480045113b7af00f7b5655ece8': (0, 0),\n '0xe1bdec7f901d807c3378907b2668614b9a455f4a': (1561905909841955,\n  135024835909841955),\n '0x98dfb360cbc65045a8415fa2514f549cd3000f02': (0, 0),\n '0xbabef83b0dd130e3519cc5eb8543a000e34bb034': (0, 0),\n '0xa693b19d2931d498c5b318df961919bb4aee87a5': (0, 0),\n '0x9aed6f124f882bb607f31dcb9b0701fc3ea50bbf': (224824037106667237,\n  66224824037106667237),\n '0x9538f721376d1a3151e6294f627aeef3c58959f7': (0, 35000000000000000),\n '0x71207b59e9fdd57d5800177446d9637ba8422351': (91261263430783958,\n  88081641644775677),\n '0x983de862c32d35b9fb23da8a1c751c6b6633f339': (0, 0),\n '0x131aaecbff040379070024ea0ae9ab72a059e6c4': (4751255348640253618,\n  4751249909640253618),\n '0x52fdfb1157878f540dcb961561ce5f3b0bbe6f80': (0, 0),\n '0x46e64942c7c42370aa40398e867d95b0455895d4': (300124303922316000,\n  288314165947168000),\n '0x5f350bf5fee8e254d6077f8661e9c7b83a30364e': (1538083332345947204,\n  1549929439581529690),\n '0xe27d4ed355e5273a3d4855c8e11bc4a8d3e39b87': (0, 0),\n '0xdd975d795febfebc6d72edae265a7190fb37a7c3': (38041045965101057,\n  41291455519599557),\n '0x7c487845f98938bb955b1d5ad069d9a30e4131fd': (0, 0),\n '0x897d4ba20064233491ec3daccea74de126599b42': (5010600196219730,\n  390904770196219730),\n '0x7898accc83587c3c55116c5230c17a6cd9c71bad': (0, 0),\n '0xc1e47ee3b94dc3e41bcd60f632b7efc3073ab996': (116701932270828132,\n  89701772217125032),\n '0x16f043fff667c8428c3870ef64d441fabd7419c0': (0, 0),\n '0x27f3be33405b6562e3ba2f85e98a6cb44b166656': (2077031896999270,\n  4393371896999270),\n '0x7dd2e1bee82917012b653eb29d14ff9d2fadd445': (17723340000000000,\n  30000000000000000),\n '0xb1cde9258b034e2735d747450e743c936f99481c': (67716060943563931,\n  63334093547278106),\n '0xba11d00c5f74255f56a5e366f4f77f5a186d7f55': (0, 0),\n '0x0d4e9cd80b1d7bb486eed42d990a8255b401097c': (0, 0),\n '0xb928bb72c9b5ebc6de4d7f288df85fed3958c9ee': (0, 728710000000000000000),\n '0x8babd321c440439c386422b78821c09a209397e3': (50671395923097470013,\n  51171395923097470013),\n '0x2ac3ef00cd34100e1af290f08c914f8d3c9c6693': (0, 3200000000000000),\n '0x6d660980b00c3405c2dec173cf2259b15572b9b5': (0, 0),\n '0x844462ed1bbc5e8e36bdd840b679b78d82fb2227': (0, 0),\n '0xaf988aff99d3d0cb870812c325c588d8d8cb7de8': (0, 0),\n '0x80b22f42d6cc529204cb3a8d5f358ebd062ee78a': (0, 0),\n '0x97dec872013f6b5fb443861090ad931542878126': (182386045585375974111,\n  180845247792482626894),\n '0x3496d92488a5ef5559e686d61c4d2bb798a45191': (0, 0),\n '0x2d3163874eb816ee4ae2bed01c4b9c2d4a1b5ae4': (85822983994144654,\n  1576396322973994144654),\n '0x3dcdf80df359bd1c02c656fa7d5050e1127ed4d5': (102065385583755612,\n  100576831726315908),\n '0xe69313787e182386cea4e9e116b036221fe66236': (78466768052793687,\n  78466768052793687),\n '0x08cb94f7101f4205f5e8590518b65935abf490f8': (0, 0),\n '0xa8a02df95bffb09591d688b9e73b9eb98882316f': (97925095000000000,\n  91625095000000000),\n '0xfac1c3aa6c726fee4a2b745fc06232987450db12': (274273616310262882,\n  274566304009474682),\n '0x0000008cf69d25162321fed9f6789f2a5cade6bc': (0, 0),\n '0x9cc7474377da9c8fe6aa6bca8494a74bc1a88433': (29615576453267661,\n  29615576453267661),\n '0xf4ad61db72f114be877e87d62dc5e7bd52df4d9b': (0, 0),\n '0x4f409a2f19e0789bd5025d60b06656dd451f9a8f': (1001543728723193156,\n  10896344358723193156),\n '0x908edc7e1974ecab1ca7164424bc4cac287d83ad': (0, 0),\n '0x17085127a7343c7e3c9a7d0fcd8e89297d9ef5c4': (1119400178396793250,\n  1119400178396793250),\n '0xf5cc0f476dad970befcadae39a58e102328988e4': (437752636930900000,\n  427165129430900000),\n '0x43de86f936718a4a9a09cb1fa1f53cd41bab899a': (0, 0),\n '0x5080d8de8290507cdec3b04feb2c94a24fea899e': (5086000000000000,\n  5086000000000000),\n '0x0dd59ae94619597f1a2d62b03326b787185ff3ce': (9973910246851026294,\n  9893237433851026294),\n '0xdabc14db1667def2d9b105e64649747271915d88': (786857136937793022,\n  786804005593877022),\n '0x537896d2b76939f06fb4f1b4257abfb8cde28045': (0, 20000000000000000),\n '0xd6ddf6784234980ec5c900a0c6aade4343e8cee7': (90184689609000,\n  10090184689609000),\n '0x7e667fc962b769612e3f417ede449fb6b33aa660': (0, 6774770000000000),\n '0xf87776c14fd457503804f2219819b88b1484ccf1': (997100610889721842,\n  1006984811450718745),\n '0x6d7f409c71d13a28984d292e32109f401ce791ae': (0, 0),\n '0xb284f19ffa703daadf6745d3c655f309d17370a5': (4376301306764673933,\n  4376301306764673933),\n '0x581c99604e84b03f58da65e707a470a882763176': (167175981780564382,\n  163679379053902282),\n '0x8cffe99d4b9a4c955184f61b99f281f5279bf528': (0, 0),\n '0x190f2386932cf9c8bc593a9a0e05bab1406fecb4': (0, 0),\n '0xe46a6b6c4ef54a1846d9ce88c5cd05c8c6e3bfe4': (697580841362220,\n  8697580841362220),\n '0x86fc6f6c6702cef7d3bae87ef41256715416db71': (0, 0),\n '0xddeb598fe902a13cc523aaff5240e9988edce170': (19581151515478744933,\n  19435340818947595583),\n '0x9743372c38b95ca58108f00434cc3c3055ce5f78': (498649001811697110,\n  494295582803436110),\n '0xc011a73ee8576fb46f5e1c5751ca3b9fe0af2a6f': (0, 0),\n '0xec368d82cb2ad9fc5efaf823b115a622b52bcd5f': (0, 0),\n '0xc250088240008c01a80c5537ffe91accc0c83a1c': (129282699116225315,\n  132934410494958115),\n '0xc0c4dbcca8fbb040e7d8d51117bcd14cf53ebcb6': (0, 0),\n '0xb7aef37de686e117750e30589d46698769b2a2bc': (403039350941266172,\n  1241257857232872350),\n '0x99435c6b465784d9d56df181b095accb4d801cf0': (0, 0),\n '0x93bd31067a715ca1514a4ee761cebc42cefeac83': (0, 403596970000000000),\n '0xa9c879d78387f62f7b553f07f56384e29b038e62': (0, 0),\n '0xcca4f24d5122e030716bcac4b890aa41d5d73657': (534660234754993574,\n  3021630999840091),\n '0x073f0dc58e9989c827ba5b7b35570b7315652e63': (6399083343865697336,\n  6343496936112603822),\n '0x493929cd20bb595bff2c28f1ba4d92507d12051b': (0, 281851140000000000),\n '0x19f494583c7c933be7b0ee58104ddafac1e8adfa': (384788858220260240154,\n  367036261958102193659),\n '0x486954d0f69aa28746fdab094cd03a39f48ee78d': (0, 0),\n '0x647e55cd8f1e5af2022fd7daaf156f25b1f87e53': (0, 0),\n '0x4a1badb78343733cbf5591451865859407a82c72': (2510154318154441849,\n  2551831370067036892),\n '0xf650c3d88d12db855b8bf7d11be6c55a4e07dcc9': (0, 0),\n '0xc875bc1b7741ca773e940f199215af4758934605': (40662608523957089,\n  36946380789551289),\n '0xe9c8668dc4bb4285df2c7c75e891b32f5c1e20ff': (424756881336058564,\n  824756881336058564),\n '0x493c57c4763932315a328269e1adad09653b9081': (0, 0),\n '0x7f79e215d3bc25ab0190b70eae0ed5f971044fb2': (39937830829708661,\n  59759947371602181),\n '0x8992438ef443a92e6d60b3bbb1bd8bd2ad9dacff': (1549375270581101,\n  21551585270581101),\n '0xa2327a938febf5fec13bacfb16ae10ecbc4cbdcf': (0, 0),\n '0x2415697d525d0d95f5b070f91059d4aee6138989': (0, 0),\n '0x12daaca2a15ce2580ad071ab386f7f2cccac7e49': (0, 0),\n '0x17f3119f6afa66c5c677d0b5d3e85c4a08836fe7': (7520216560054921,\n  16836158401734942),\n '0x6ab880afd1e0c7786cc5d05f4fd9b17761768da8': (621620969659008415,\n  625003070133730415),\n '0xfd71986ff1bca68edb3963430b11b32dff4e59ee': (500000000000000,\n  1000000000000000),\n '0xd8285845a2315aaa443d47124e6bc02ae3a5bfc6': (11494725255831819,\n  49583855255831819),\n '0x8085c73e6039fd08e8a3b60656af631c9f7b7e76': (0, 0),\n '0xdb8d30055d3e87d211657b02aeb502d1cc6c46c9': (0, 0),\n '0x3432b6a60d23ca0dfca7761b7ab56459d9c964d0': (0, 0),\n '0x9df3d188c1c05bd451350fe06b708d39c3782f7e': (0, 0),\n '0xc252ddef3b4a14b2977abfd07bae5349c2e003dc': (10521547960540075447,\n  16654363825375476449),\n '0xfb7c9ea88ffa2f6ccc6f1e07c8fb75f1cd4fcf9f': (0, 1759650000000000),\n '0x3041cbd36888becc7bbcbc0045e3b1f144466f5f': (0, 0),\n '0x1e053d89e08c24aa2ce5c5b4206744dc2d7bd8f5': (0, 0),\n '0x0000a26b00c1f0df003000390027140000faa719': (16488304586664737495,\n  16547094331664737495),\n '0x0365b4988eccb22dbfbd2468a6b312eb584bd2ef': (3074425621970591,\n  4806720621970591),\n '0xb3611dcb608f32315a5fd9b33b5b48949ae42191': (1271499713284242241,\n  1273760325758070241),\n '0x6ac8222faac516bf2c4ea3cb08d4dbb2aa10fcc2': (0, 0),\n '0xa8e7437833f4c2f4f36f8e4559db91bea951bfa9': (0, 0),\n '0x5864c777697bf9881220328bf2f16908c9afcd7e': (0, 0),\n '0xccaa726829009cd8e13bc288d8e06ebc53a9338e': (2403659257305239684,\n  2326042121240633424),\n '0x1562a3dcc2459d9cda1ccbb4053642b7e8893823': (54698750261489030,\n  57259953063190730),\n '0x410fc2961f0719a4a608447f9d3886370832d023': (178336285495312212,\n  179778330907347512),\n '0xbcf1104ba2231efc91ca5b6c2c9c308b3ff0e247': (0, 0),\n '0x1d218714ffda45c9ed9e8719fcbacac0b318fd21': (2008945848995393936,\n  2008945848995393936),\n '0x19062190b1925b5b6689d7073fdfc8c2976ef8cb': (0, 0),\n '0x37ef2b418030e35e305d92e282464c0668cef3af': (37, 37),\n '0xed82bb41fe841d2bdfa846588360208480fe49c2': (0, 0),\n '0x0000005c9426e6910f22f0c00ed3690a4884dd6e': (0, 0),\n '0xf585a4ae338bc165d96e8126e8bbcacae725d79e': (4996213696505379830,\n  4985891849954433661),\n '0x25189d75d385299c6a3a2486b2f0b10b32e46726': (327507563854259844,\n  317640320927323547),\n '0x6ba3f5617cd50c36b118bf94ab5c33e03686ad49': (0, 103420811503923618),\n '0x87b2dc356091c794490cbbf661384c7e6343ea61': (666014500965090388,\n  663895095293136035),\n '0xf3c5f5ebeb055bc2fcd986e2f2c9a1d8dbbc1e40': (155105198448721622,\n  139221326225564567),\n '0xce88686553686da562ce7cea497ce749da109f9f': (0, 0),\n '0xa30cd7076325cceeb0a4fe576018bd02fa5a7bd2': (771653941000000000,\n  794846260000000000),\n '0xec968b19200aed32f13d5095cbb78da9c20aafc7': (15076724528195327,\n  13885551764015327),\n '0xa1b3eed2be159ab716b368d6b8a5d44d64cc2518': (157516548978245958,\n  154768803587872308),\n '0x62d4e24482bf605c04a1ff2a0e13c8db21b0aae5': (7264660742590628855000,\n  7264646059628463862000),\n '0xd006ad343886254359dc87aa5e1753446072fd50': (2886109331591971560,\n  2882398136766580077),\n '0xe1cbfdde3d7c129fb7ebfe2fe82d5dbbd77b1fac': (0, 0),\n '0x8bd41df412dc4fb038fc202d7008840c3d3f93d6': (0, 120000000000000000),\n '0xbb364f86ae367fe813873a8b17cd303a39febc8c': (903359138508572819,\n  899536743487177015),\n '0xed835a2fece831ab9f47f44d9533094d6fcabb38': (0, 120000000000000000),\n '0x1ad42fb475192c8c0a2fc7d0df6fac4f71142c58': (49939769113138157,\n  107804486676558557),\n '0x610bb500dcc660498a068f8c62893997d59fa2ad': (591446261693576394,\n  578563652513399421),\n '0x0e4d3675adb96de93dcd85e394508831ab9f0578': (1356333281838022678,\n  1351172479181093741),\n '0xc9aadf0fd10504bbb81624eb05ff888aeff04987': (25598888424432264545,\n  25595672982377733545),\n '0xff9ebee456d8c696ddfbd07f20bcdaab5aa83c26': (1850288353385954,\n  331162388353385954),\n '0xf73a1260d222f447210581ddf212d915c09a3249': (0, 0),\n '0x566cc3c77ad1b2dbf12928fe73709a2deefa4e5a': (672429281566560594,\n  672429281566560594),\n '0xc02aaa39b223fe8d0a0e5c4f27ead9083c756cc2': (3020083538721853989899459,\n  3028240115597582003021569),\n '0x59c439e3fdcdd2c8d82a1afacbb7826a40d5ef4a': (0, 19200000000000000),\n '0x44a4212ac91767708ce8a6e41a43f18181def77f': (77924880706273192,\n  77924880706273192),\n '0xa76cd507af449e3275ae6c3987c6654b7e6d414c': (11187119034517440,\n  27346929034517440),\n '0x611b0e968a820714fb03f0989d3d483ab129396b': (16016323431282000,\n  16016323431282000),\n '0x1d239046785c0432e221d8b2c04b94707490aacb': (0, 0),\n '0xb88961483180592e2b52d0e45c60d192dec961f9': (166254585078274291,\n  156501852132657891),\n '0xec8541d68a2f66690c2b45e8908fde7e3b3e1bce': (217256925254247563,\n  219246925254247563),\n '0x39aa39c021dfbae8fac545936693ac917d5e7563': (0, 0),\n '0x9ed8c92f1d1644065c3168f5f98ce983c13c8871': (102258184598511412,\n  101254311333165412),\n '0xfffceb755439ac0144783170239a82004c066daf': (121535128863643532769,\n  121521938531212393769),\n '0x797d85c213358261d00e01ff22fb9f14fbd57291': (584517183335389933,\n  580822049600984133),\n '0x633dcf3628188cb3b12cd0a12d2a061843835d83': (0, 10000000000000000),\n '0xddc50252a3080d5028d1c25261f78f023e9117d5': (33561115771437625214,\n  33541136252656831814),\n '0x1fd0c666094d8c5dae247aa6c3c4c33fd21bdc91': (2242387747434782104,\n  2242387747434782104),\n '0xbf886208613921d17fa942336a33f5528ea30de9': (163349430045915986,\n  163321239179679786),\n '0x8659d7e2edf6643c9362a986cfdaaa3eaea5ab0f': (863268582293208739,\n  874751360477804396),\n '0x4d886619d4cc5d10060a08ace0d36d9cf6a5c7de': (301147492527000,\n  415244124855000),\n '0x094efc7b93a75e9d73e20fa171101753a0ce343b': (0, 0),\n '0x4e5f413f5c5415b4e3f4615c3a0affa5ba8c43b7': (128759579574970065,\n  128759579574970065),\n '0x99b798183b45d2a3677180d208d2fb0e3a1be217': (0, 0),\n '0xfa9a30350048b2bf66865ee20363067c66f67e58': (0, 0),\n '0x0f4bc970e348a061b69d05b7e2e5c13eb687e5e3': (11074440521701489794,\n  11082054599617892520),\n '0xf99c02cae906ff0c3b3b277cb67ab5f4f39d7796': (211613110725599086,\n  211613110725599086),\n '0xf5fdc5628489004efae0d88bdc2adb9fffbbd287': (26386406963602131,\n  27386406963602131),\n '0xd7af5ea14fad145b2d9fd57e321d7bf8301980b5': (489646819630853242,\n  477228846488021920),\n '0xaf43d3c6a1362ca33fbba27d16959deb454f72ae': (127292672913225662,\n  132538239868435662),\n '0x629a673a8242c2ac4b7b8c5d8735fbeac21a6205': (0, 0),\n '0x90f35f63f8ca6f0e61823cbf635f0da0737e2cc5': (4410706131650489,\n  129995696131650489),\n '0x5c4011ba3f574c91ad8ffe4172249e52a485f6ae': (972815395297172086,\n  949397996330168546),\n '0x702aa2167e135d17861c7d2465e18db332547c21': (50139992686078630,\n  34094041618891894),\n '0x388f5b5198386bd6c743681ee4234caa89518841': (0, 0),\n '0x94e8b6295be681a2c4ddad11f501e0fe9abb758a': (541552436164837899,\n  598996254164629921),\n '0x1a9142db9993cb59d40c00e1ace275d810f77b3b': (122500000000000000,\n  127900000000000000),\n '0x99fdd2a67ba5ec9fb98f451f0e88d0fbec1ee121': (96685613787000,\n  31740475613787000),\n '0xa1a7efa2324f826f69873abb44d459d66f0898eb': (1035942237183104482,\n  1036056333815432482),\n '0xaea6291cb48d9675b120f74e2f0b0de01db47a00': (554009435765343982,\n  674009315765343982),\n '0xecdf0abe81bbfcce878f134d3efb9373f069d105': (108920774116461983,\n  110982834785935983),\n '0x36151ef8bf252eb963235fd76245b98580d595f0': (2013439755171424902,\n  1568923461253708558),\n '0x5b1b5fea1b99d83ad479df0c222f0492385381dd': (0, 0),\n '0x2109f78b46a789125598f5ad2b7f243751c2934d': (0, 0),\n '0x812aac4cbdb895996ab2eacc96878bb0452ae420': (15910045139269017,\n  16280350919189017),\n '0xb14bb7754c7c5cdf2ba4f82c5ac96cd1ed1be10b': (164420029274521988,\n  157279776607517195),\n '0xb7919ad276b1e77e29b8ae75837517a1522f8d0a': (122153653957571373,\n  123431466374585373),\n '0xa3fc3ccfe6e0d21575730446de6158016ced7742': (87871524743516136,\n  175851529024288136),\n '0x7bfb89db2d7217c57c3ad3d4b55826efd17dc2e9': (14536948752854864737,\n  14383493891311093550),\n '0x564ab42cbc7631a1adaf2871a9a4a56bea8ae9e0': (62352046301013543,\n  58784069028449597),\n '0x30513a5f2c6679882f770af235645c5ee50c8aad': (6000000000000000,\n  64800000000000000),\n '0xa31fadc92354518eff6651d416a37c59e236bd51': (458422281145969778,\n  460658050894004733),\n '0x05e63625a5003ba39dbd0e12d443c89b1eb48027': (4259792479073261,\n  9893322479073261),\n '0x0966d26521c18e82d11c40d64d3d1853ced5e707': (48871426550558924965,\n  78871426550558924965),\n '0x764312ef291900ef32be90dd3eb5a1bfa6788e84': (111937776900743083,\n  114207119951364274),\n '0x4b140f324676eeffa1f18808209d2c80e205d50a': (567820333423472381,\n  509524574016194080),\n '0xe8c005921eacb98eb9503ff15264442a21f45f7e': (2814139264388403,\n  253566569264388403),\n '0x64187ae08781b09368e6253f9e94951243a493d5': (6425678118163455609083,\n  6425678118163455609083),\n '0x44609982b2e83ca5c348bba453bfa8363e8a2c22': (6523288545708721484,\n  6523288545708721484),\n '0xf87201822c949e81695e0eceedaa8ec981dc5a80': (46094217152062209,\n  52362617152062209),\n '0xb84b4e49293239c464a0ee692ae28dc3f01b73c3': (0, 1000000000000000),\n '0x9fc7eeacd27d38a436462bb43ad97e49106820d7': (5200112386385605637,\n  5205935280847732437),\n '0x9e0905249ceefffb9605e034b534544684a58be6': (0, 0),\n '0xfac0475b677b54f72682e0ea633ffa1088110dcf': (258696424780514898,\n  256889144832488898),\n '0x36008a3f8296845329e7963af964fdb01f5330bb': (0, 0),\n '0x4242757f23728739ea77ed6df4f65e9ac9e090d0': (59174193062587650,\n  55971050276579369),\n '0x5851312c58758f24a3a58dc058f75d0dce4aab56': (16921963331220105,\n  19717133454875105),\n '0x4b35f7854e1fd8291f4ec714ac3ebb1dea450585': (0, 0),\n '0x6033368e4a402605294c91cf5c03d72bd96e7d8d': (0, 0),\n '0x7420b4b9a0110cdc71fb720908340c03f9bc03ec': (0, 0),\n '0xfc2bd2cc6151403b55f615f25f1da2af8a9deffa': (842342977100104,\n  22829232977100104),\n '0x2a8096569f3e922048df9461d65cf8e675cbf676': (0, 0),\n '0x932bb5ba1baea418ff31846e3469bdab30d84e44': (0, 0),\n '0x55836a43da3e0e5a26dc3cee64d773c757349a5a': (0, 10736730000000000),\n '0xb3550881295433b00278097c24aceba6c9236c31': (0, 2500000000000000),\n '0x59e08a723ab0bb5d5935327b60848eaf30e250a2': (93404207889976760,\n  94100049171059260),\n '0xce61f0aacd24fc2056032c241960ac2b33e34a1e': (0, 0),\n '0xd1f287a10bc4b6cf473ce98c4d2a1a177efdfa15': (133992351023857785,\n  133964160157621585),\n '0x44d55228c43c21a7dc99cfe6b5162db3fa76db33': (886656101809066535,\n  863380650011531198),\n '0xd059eda21e46109dddbf45ff4d982527bccb50f3': (66260462205000,\n  79066260462205000),\n '0x65840a9471a8df058e2afeed473cfd82f16ccccc': (65200618195103327,\n  69687545292775405),\n '0x55fa1d3a3bc07b30f71ae87209451afcbd78d800': (0, 0),\n '0x5d291ee08964092d847b5f67819ab7c1c1db52e1': (0, 108447177795967812),\n '0x73edaa951288a579fc833a0350e834ef740850f8': (12231815864609605,\n  70231815864609605),\n '0x38f0dc66828d0b55a8f28e3df46671c973e9bb2a': (84074832527682410,\n  1184324100793199656),\n '0x7f264042eee2a056b3f4378b3b2168389b436c3a': (499086914437833397,\n  530440489178301429),\n '0xe07a03acbde1fa73fa75ec6b294f17d892514328': (0, 0),\n '0x454f11d58e27858926d7a4ece8bfea2c33e97b13': (0, 0),\n '0x466d43cb81775e7a4355f111622200ea448ec615': (978592965202060400,\n  980069156121183224),\n '0xae7ab96520de3a18e5e111b5eaab095312d7fe84': (58021197858419824234,\n  57921197858419824234),\n '0xae9ba824a49e642c3eb64f2a8b041dd4c14af764': (3607012713845619560,\n  3603714631508248325),\n '0xb0fc6362a68cb90bf1e5f4c8471a6abe9bc9aa56': (225861784485550000,\n  212532815485550000),\n '0x3f709356385f40e0623c246389e5ecc1e655577f': (0, 0),\n '0xd53230b35f430facff1c354a35cc3059a4f788cf': (645121338873061229,\n  645021338873061229),\n '0xa4bac4c2ec4492cd6d81550fbf42d8d698d40647': (3399413190209049215,\n  3392482512132226904),\n '0x91a0a3043f68986043d7083c4d85b558b21f0a7b': (115286771312610044068,\n  112643436225012583068),\n '0x99361d689133f250e94c995af65f80841331ad1a': (0, 0),\n '0xc5b780b35af30a2b9050e42a6630a9543ea2b4f9': (22924585072279622,\n  22778583554155622),\n '0x1d82c9df486c3a2e6201335cd68152fa381e46f8': (98436759617834802,\n  94486951115402807),\n '0x1ceb5cb57c4d4e2b2433641b95dd330a33185a44': (9970000000000000,\n  9970000000000000),\n '0xfc1e690f61efd961294b3e1ce3313fbd8aa4f85d': (0, 0),\n '0x6df3c3acef0f7878adcc435a57fa28361881f57f': (1153728800010112,\n  23153728800010112),\n '0xa20c07f94a127fd76e61fbea1019cce759225002': (210520996009946157,\n  208732385862041157),\n '0xc1946d7e46c44e1d7f278ddb60ca119670344622': (0, 0),\n '0x09e0781a47e9fd2b6258be09bd074f42022b9760': (10710225773546287380,\n  10673890014904988959),\n '0x2c638d7c03dd57351cc1b9c08d2b6fe8e9de64ce': (18571848945053306113,\n  18551526235101910408),\n '0xb20b86c4e6deeb432a22d773a221898bbbd03036': (7404028459047834712,\n  7387855777864062922),\n '0x7c8693c6134a4f56e9e3357bdf60f6a9e16a46be': (63145291589565767,\n  61375411018251571),\n '0x013db34ac9e534e4d653b78a5b27245fbd8e0289': (825870226784834327,\n  883859513745792759),\n '0xd16cf6cc98e62786fb5a72b96d41fd1798241772': (3683601167908000,\n  1227847861167908000),\n '0x5f3b5dfeb7b28cdbd7faba78963ee202a494e2a2': (0, 0),\n '0xa69232b5104d8acf985ef84c10302162b658ae88': (509741911976902,\n  124854381911976902),\n '0x3443006ed920730005d88267c49f77abcde749af': (25654818631268753674,\n  25322414900856746217),\n '0x76576bf90f9c43891b46dbe49d6a416aefc204ad': (361544260031646176,\n  332493863734161758),\n '0x142465967d1d29df61b2c53b421a31fbf7091da2': (17906334223538192,\n  14741570117350968),\n '0xbafe01ff935c7305907c33bf824352ee5979b526': (0, 0),\n '0xbf1cd064879d2e4bed711e50db2f5b7233860e03': (2642741421192977,\n  32642741421192977),\n '0x871baed4088b863fd6407159f3672d70cd34837d': (0, 0),\n '0xebeaf855f68b025a12a15a2583893f1030312dab': (112634095173323394,\n  108436153446927354),\n '0x0000006da87a99a58e9652937e987df1f74fe148': (10904774376193914140,\n  10605203401598719927),\n '0x328d609d2b9ecefd8a6c01feaa19fa98b8963106': (9997245318000000000,\n  9932203049888370310),\n '0x44dba859109f7cfb4e74f4bf8eac44fbd3317f17': (2619266130000000000,\n  10748378130000000000),\n '0x9592734756f3c820293d8e55e8feff4e794eec6a': (0, 18900000000000000),\n '0xf55e65e4fabcccfe7ee1fcdb01e89993d32f5b17': (405622309567619129,\n  402212611235604757),\n '0x7577f68a88af61704b5f5f6cc57e4b714facac4c': (0, 120000000000000000),\n '0xa0645b6fe075f5611b5fc24802e9ff68a0e80e67': (978514613566000,\n  29817344613566000),\n '0x2a4e0b8ff8b14af7220c0aff3667a7cd7451f651': (0, 0),\n '0xfaaa7460ed59c12e204349766ce73cf5202e6ad6': (0, 0),\n '0xb6381ec49ad089d54a1bf231f8c99fce8d36a89f': (0, 0),\n '0xd1c9193981619fc65b325adc52a8c1762429d1c9': (16363750675127015,\n  1870182760675127015),\n '0xfe3e6a25e6b192a42a44ecddcd13796471735acf': (0, 0),\n '0x37a41f96497beddd074988ebf7aa96b0895ce5eb': (0, 2706390000000000),\n '0x36375545ac58e3dfedccf668681d5a6b7607d928': (117679209530598669,\n  120982609530598669),\n '0x13f4da5a1a49ab3acaab1bf973d23ee823f929ef': (0, 324121110000000000),\n '0x1558aafc5b283b8a8f75961b9748ddc796522d24': (486859212149632371,\n  929940212149632371),\n '0x0e1e8ca191366d46caadd6c90f260eb134839ed0': (0, 18400000000000000),\n '0xdc27dcd35a4cf633a1e7f20096ed32cbd424bc97': (45836943088126446,\n  65134497800566946),\n '0x88004441a0f79727d19a2697344244c901736e0a': (118732804017345057,\n  118732804017345057),\n '0x972d2e48d7010c09099640cc38ff4f4bff51c512': (6951390038480398353,\n  6914905846496529081),\n '0x337b208bf16fb909cf4bb6f9e5eb0cf6faeb5369': (57413825536214297,\n  4556410995536214297),\n '0x9534df8f2c9289bbdb0c736e9fef402b20f1828e': (0, 0),\n '0x3d334345154c1d3a53cf8c0f5e9d837359b2bc5a': (0, 19100000000000000),\n '0x61935f4ed8050170525dcd54d29847cf46bb38b3': (549003672192995525,\n  549553453392809525),\n '0x6fce2cd214a87ba8a640a6f5b835af258df131d9': (570582537892248519,\n  570263789822359095),\n '0x35328a6bbb43bb53f0838ec98225c46bc367087d': (177271740408925434,\n  166963669791028507),\n '0x530f655fe8d29be562279025d9d2bb2f4c2f1965': (0, 3000000000000000),\n '0x93c8fa7bc6dc80a9b031d543f3a48e0e4706aec9': (503373374405269,\n  5039503373374405269),\n '0x552ed1312f87ee679af33e4b8fbde9a2cba3626f': (2370419835310837551,\n  2353951124304814415),\n '0x4ed148773b14ed06c5fe10a2e76ea009cb9ca033': (0, 0),\n '0xb2fdf917b8c54360c430506d6cce7dd099882990': (86541751015636375,\n  78783749385166753),\n '0xc92e8bdf79f0507f65a392b0ab4667716bfe0110': (0, 0),\n '0x88dd694eb900a670734892ca2e89f20defe2ac8c': (546544582102671789,\n  549723088583901755),\n '0x68d8a1ee782bef2504c3644161683846eee5e429': (90162022738462256,\n  81976450066950314),\n '0x142fd5b9d67721efda3a5e2e9be47a96c9b724a4': (0, 0),\n '0xf584f8728b874a6a5c7a8d4d387c9aae9172d621': (9911383687787562707346,\n  9911703687787562707346),\n '0x93fc0c711c2df516bc442ad4b3ed47cc4001829b': (115119374755354381,\n  112524280696534807),\n '0xd03fb608f52fd26e181dd221e84c3f7f2c711861': (79265000000000000,\n  2163797310000000000),\n '0xe65e6c462119c311d57fd31bdeba502cccc504b4': (0, 0),\n '0x6377ba25bf1416f5bfc2024d0c6800c13f8e8477': (1810297047310444970,\n  1883828428864063220),\n '0xfaf760f66ee150bc7339104a0464b5f1b491c708': (0, 0),\n '0x4a299f36b68c1e777333490b72a68294ad5f0333': (3767911709720812223,\n  3829359669720812223),\n '0x67079a80471824bbb5a4d562c19de45261a52a75': (0, 0),\n '0x1baf16c71acdc044bd7b6e5805d93a8b2be90e78': (408542822194631084,\n  374058630210761812),\n '0x7201d51799307c40a238ee8cf1b49710db4b65e2': (0, 0),\n '0x48f6edf82ebc31a7b36cdb3497cdeceaa4addf68': (0, 129000000000000000),\n '0xa7d7ac8fe7e8693b5599c69cc7d4f6226677845b': (383168202150664653,\n  382445408080813653),\n '0xbf96189eee9357a95c7719f4f5047f76bde804e5': (0, 0),\n '0x5bf5bcc5362f88721167c1068b58c60cad075aac': (0, 0),\n '0x5035b7c3ed64036840fe53639cb779a04ea2e910': (82968751533071547,\n  74384995915593519),\n '0xa055a112c215c96ddf94037b86738cf5716e3e98': (0, 0),\n '0x000000000000000000000000000000000000dead': (12564729012237294209744,\n  12564729012237294209744),\n '0x77a8bdc99112c4ec544d8ce46960683443f624f0': (146584362591322502,\n  146584362591322502),\n '0x0000006e413f09535f3c4cf8b97740da92a0567b': (9132260707176371551,\n  8942257758215406853),\n '0x9c80777cae192e5031c38a0d951c55730ecc3f5e': (0, 0),\n '0xad5d9b9e062555ef621fbed3c8bd86e618f2f0d3': (23056111017347230098,\n  76930011017347230098),\n '0x248475c0e9810a4f558bce4c718ae50a989dd55e': (175287372026575286508,\n  155275555426575286508),\n '0x1b3682983331c26b0c7765d99672ffdbc13ed78d': (15155104000000000,\n  15155104000000000),\n '0x757908a2235a5667fdefa202acb094caf0800664': (3011611260652322290,\n  3011709241676477290),\n '0x1528526ffdbe11fe0db0bb48eeed41fccd70265f': (1002834347424000,\n  396833252424000),\n '0x7a6cbd7a4562021fbdc0ac328c6c572fd703087a': (177494442425331668,\n  162294025147494868),\n '0xe93685f3bba03016f02bd1828badd6195988d950': (38375816201714043391,\n  38375816201714043391),\n '0x2d216a726879d66e6243bc7875ebf23907698416': (15327027738959682,\n  32989950031739682),\n '0x24fe681230ee4fa0ff370c177b454089b881de3d': (34879873396827140,\n  30880451922050140),\n '0xf0d3b755329cf65a525f7c701b8c7a7258eaf554': (108469961000000000,\n  108469961000000000),\n '0x4c7417648d55771df7c6740f1d50ace4092906e0': (0, 111946009724099576),\n '0x05f08b01971cf70bcd4e743a8906790cfb9a8fb8': (0, 0),\n '0x200667faaefdcca2281bacbeb060aa599ba70730': (776831359689000,\n  124914368588687124),\n '0xb51667ddaffdbe32e676704a0ca280ea19eb342b': (1032611317663211411,\n  1013842700422328693),\n '0x9ff58f4ffb29fa2266ab25e75e2a8b3503311656': (0, 0),\n '0x29a0e282e9e07ee89736d0e72750d39f20f372a4': (123821775314845443,\n  124004577414430443),\n '0x207a4dc5150f8bf9fde7a6b487259cd3a3968370': (0, 0),\n '0x96feb73fa251e7da996c6032e94311966607ce6d': (0, 120000000000000000),\n '0x552b6ad871f27a9729162c18d769050363f2d57e': (20777684738043738709,\n  20776658702357727709),\n '0xf713ddafbbe6ac3b58679280e2588d0a8d19bec1': (242769409337821936345,\n  242715067400081690270),\n '0xe887512ab8bc60bcc9224e1c3b5be68e26048b8b': (0, 0),\n '0x0a8f4c21a980b0a76b4f7071cb4713d8a74753f1': (641800275388595378,\n  643158427740650378),\n '0x28fa792a8203da3ef10b15fae8bf30717cbbffb5': (92742341517000,\n  69277672341517000),\n '0x0000001b37b9123e1a83e15a4af30120bdcdf252': (7420668621404679448,\n  7166054427171798474),\n '0x5d12b24e8b7c1a42bb48515afffcbf4ba2abd7ff': (33922891196532584,\n  44154484536882812),\n '0xfe4fb0e0031019eab366bdfb3d131e4802c4b6af': (13682164345786766,\n  65163174345786766),\n '0xd4b0726d7f03261f2f9d37210d1c642ac2677f53': (1999123777580059,\n  146745263453783347),\n '0x4f381fb46dfde2bc9dcae2d881705749b1ed6e1a': (64624922233096776101,\n  64624028426648346101),\n '0x3b47555f703db2acbc44b8a70558c394f9984bda': (1404634316731045834,\n  1404634316731045834),\n '0xe6412a4208294327132c3eb4944fd993cc066e36': (0, 0),\n '0x5732046a883704404f284ce41ffadd5b007fd668': (0, 0),\n '0xa93d3b5d86770f8ab2130e30556a880be801a994': (944820094428061564,\n  945342169985100789),\n '0x9017c92270f465fe35c8adf47ad9b2c344765561': (2338714395099923681,\n  2838714395099923681),\n '0x3658d6b19a6d903d24e82e3a7659f0a5f153beaf': (0, 120000000000000000),\n '0x6621c2314ba31c15862eb71989a26b829854c60f': (0, 0),\n '0x7ab72d3cd5aaf6af805ff2b9b75c75d182420c75': (0, 0),\n '0x0c0516efa711e3f8a71a8bf77494b682a1d1d22d': (0, 0),\n '0xbbb2d0dd7d29e33ee3de1a9fad718f18e5e62d04': (161960109072073362,\n  961960109072073362),\n '0x12c4084c1f508ed0b4ebd6c143968273c25e789d': (111700482360163119,\n  109599299732615934),\n '0xdd15553673126d386f9e735d0cc56a96e59cc095': (53272364238134272105,\n  53272364238134272105),\n '0xefb47fcfcad4f96c83d4ca676842fb03ef20a477': (0, 0),\n '0x66d6a455dfdde005cb7c18d56fdeb5567c93213f': (2762993091135127371,\n  2732782319023783215),\n '0x35d1b3f3d7966a1dfe207aa4514c12a259a0492b': (0, 0),\n '0xa9b5374d38bf9cff1fac358f1c4b26384daff80e': (0, 0),\n '0x6011dbdf3823cb4ffaca6ddb5a6dd737eb9795c9': (1600192085680074864,\n  1600192085680074864),\n '0xb22b914b243bfcd736e768e04396b5b3900d7e03': (0, 0),\n '0x632734882ed0127fbdf2666478df42aa916bdc84': (800389577428355905,\n  802966688807088705),\n '0xb976d01275b809333e3efd76d1d31fe9264466d0': (51500070909737521846,\n  51526695708860156650),\n '0xb22da51b44ab4c24d17925849a1cb6aa2806d249': (587835330741963797,\n  532208427296101488),\n '0x548d83b47b2d9be70262ca070b386ff1e830bd4d': (48498108246000,\n  21070048498108246000),\n '0x8808aa2786f4fec9e9dd25feb504808935b6453d': (102602786768713879,\n  110636512512664779),\n '0x7bce7ee1d92838fb66b9f933054eb4790210f0a3': (389764233948473237,\n  389878330580801237),\n '0x274260b827bb86b01cf7447af0b068c6137bff3e': (216317443345654867,\n  216245074479418667),\n '0xfe088c5e602ccfe6f2487ffa3697eb165b852ce5': (0, 3842000000000000000),\n '0xdcdd0d17ab8c534ea25ae21392cf27c3cba05c60': (0, 0),\n '0xa011b60a5bfbdba5cbf0f3c022ac9a2bb9bf7b5e': (77745859463326013,\n  89616557043990347),\n '0x4eb4c7babfb5d54ab4857265b482fb6512d22dff': (0, 0),\n '0x3d5a4d11afbe3d78050141844f38382804303263': (0, 122966370000000000),\n '0x71a626b0996949f88dc66bd76fd60c3caf729985': (7000000000000000,\n  7000000000000000),\n '0xfb2cd15b437433b96fe86ea376ee4901b8c7adcb': (0, 2855400000000000),\n '0x019babcafa005dcccb316a906e11405cb6fd89f1': (93825393134508896,\n  89627451408112856),\n '0xb6b9718624fe0ac841d43450f681f457bdc624da': (0, 0),\n '0xb8f2e40c83d5fa18bf5ba37763a8c4061843c3bc': (381186305000000000,\n  392792900000000000),\n '0xdbd2b4ae368e38565505705c7d6ade4b86d32f44': (128418426735172419,\n  129418426735172419),\n '0x8380bb3e5450b19d64886ed90a30af7570505cfc': (398565773030399251,\n  410222997164298316),\n '0x3ada6cbbc58df1e73c9125f61bce142f4cfec817': (109695664302000,\n  291547254894000),\n '0x6b113626451de75986d43f5fdf67fe7fdd777a92': (5165128562013112503,\n  5224211984046166176),\n '0xe6ecf0e1edaaedde9bbbff8741ebfe4cca27b235': (60450816333575995,\n  56501007831144000),\n '0xb6bd1b9b3e6e3512bb354789289f6d8fbc0f65bc': (67939590671120425,\n  70500793472822125),\n '0x58f41b41ab4884520769c382d45188f9d5c31b27': (12596538083100617540,\n  12596538083100617540),\n '0x00c2999c8b2adf4abc835cc63209533973718eb1': (0, 0),\n '0x43b9a37df11e1e25fbf2ba6536ecb0603fc45fd1': (106645475029142997,\n  111157847569084497),\n '0x8f7ad3af85c94b11951b7f0f8f291ef2038b639e': (138881844448143740,\n  140026164108872240),\n '0xb6007a21d1c890742bd9a3a4e2c0ca8df646b0be': (1509983840983007967,\n  1459505986952521497),\n '0x25eba4179b1213109f7942f14aa3f88af9e70b6a': (3311836166452544201,\n  238731163216452544201),\n '0x8a27ba710d5e0f7fa794b8d5a4a83caed9964cfd': (850375749414922,\n  7850375749414922),\n '0xebd8f0c87980b16d92778b95cf68c05db9746294': (508793691748954401,\n  495205981300867320),\n '0xc33385937c1a1cb0a964e1e462960ecb0edeaef2': (651054416754875394,\n  672638614565865394),\n '0x7624122c056e62739a67a2d6ecf3e105fe99725e': (0, 5000000000000000),\n '0x64f961eec2ba222dcba8fa354f03e27529b96f5b': (62608284325428381,\n  62608284325428381),\n '0x66b13a2a4a793e07e1666255782327c2cb644305': (257672792844356,\n  5017862792844356),\n '0xf15a943787014461d94da08ad4040f79cd7c124e': (0, 0),\n '0x85140e5afe5f0e1a62c4e551d055f6392f4ae6a9': (329172540000000000,\n  3983658810000000000),\n '0x57f1887a8bf19b14fc0df6fd9b2acc9af147ea85': (0, 0),\n '0xb60039c5c65fabf3e8b60f7aa8a6f23caa9f4752': (58473862797000,\n  7058473862797000),\n '0x017e45e5748f6fa27630eeafae80f65776862e52': (0, 19500000000000000),\n '0xae78736cd615f374d3085123a210448e74fc6393': (0, 0),\n '0x6593e3c040efe5260f36c29deab1831f88e17d9c': (4829934423234105186,\n  4823624049042338398),\n '0xfe10439de7cb1f6ec01c19e86b7d2e13c6bac129': (905405151770000,\n  35505145151770000),\n '0x54aef07ade960bac28198f1b2135468e45788ac3': (0, 0),\n '0x1c395af6ee8f262d1befb1dc3b0045fd6cb2d5da': (0, 0),\n '0x470309285f87f6f4af9668f57838fa924d6a04ad': (1399892153806005589548,\n  1399887653806005589548),\n '0x4890739829104b7bcf83af2a8e8d1c50c18f8952': (0, 61210000000000000),\n '0x74c99f3f5331676f6aec2756e1f39b4fc029a83e': (0, 0),\n '0x5c047ca20ded943cf7abf7ce2eb7ef0c3bf55f94': (6620000000000000,\n  42420000000000000),\n '0x334c5c860fe5f347f7a502af7062a551b45958fb': (18105473036002000,\n  5996708995817000),\n '0xf2000037a148ea53d3f9c24f3b8607c847b60091': (93441317826003284857,\n  93441317826003284857),\n '0x94bf0029a3481363fd6392df8098ec96367c64b5': (0, 9000000000000000),\n '0xb924c41ec506ef555aa9332f76dba20c02360e1d': (0, 0),\n '0x437a086b9481ee8f965e01e65ae5afe1bee59c08': (2251240542928491111,\n  2250286708929362270),\n '0x346ec8579f5d40fea9f94125ee54ec8dbc904457': (3362383240817800247,\n  3380821193333671223),\n '0xc0f6f0ea92f506c7e9edf9f22f11b3a169550ab9': (0, 18900000000000000),\n '0x1f57cc62113c3a6346882dcf3ed49120411ac2d2': (0, 0),\n '0x1410a5ca07a05edf10dd7b2ed386b508f290318b': (128844909053064567,\n  937747931683229467),\n '0xdd64c4493bf26a754c6aaca6fa0d52423adaa048': (373928238112777983,\n  346860497293715983),\n '0x99d1fa417f94dcd62bfe781a1213c092a47041bc': (0, 0),\n '0x58cbe30779845c10abaa20dd3ccbac306bdce851': (123030750307657231,\n  215530750307657231),\n '0x003fd5f6030b8c1a4d2503339b14466b9ba6c6cf': (190437527305300852217,\n  190351133543491992810),\n '0x2464dfa7fd61afd53b41165b5675b213f05d24f3': (345569291108345608,\n  345569291108345608),\n '0xa6b71e26c5e0845f74c812102ca7114b6a896ab2': (0, 0),\n '0xe5562241bd5764ddffb22129d7482e31d02b02f4': (106302894334382002,\n  103245773247524609),\n '0x77e8e466a2b0223596671f56e6a238561c8d5bfe': (160221650731169001,\n  157597270241630141),\n '0xb0e1d78abfcfc1153a70f1d9770ebb79ac77489c': (32749001767204263,\n  91749001767204263),\n '0x8b5684791b923ce9e6e65639eca74fcc058033ee': (148610630441028431,\n  141039215036004686),\n '0x569403303e2b90cd005aa9e45922c3839ecca9f2': (5716811937141774,\n  57716811937141774),\n '0x3da3c61e6a3dea5be524eac96fa93bc5b1b30cda': (276966787910865790,\n  252579844458078490),\n '0xd3d2e2692501a5c9ca623199d38826e513033a17': (0, 0),\n '0xdc1734769f6172242370f88fe27e4e5dd0e3766e': (177078516143867103,\n  177127516143867103),\n '0xbd3ed8a3e0ee174b6dee61b09681757e5a864ac9': (60611601569013536,\n  116611601569013536),\n '0x0bd793ea8334a77b2bfd604dbaedca11ea094306': (219346991751226895,\n  218610799395691895),\n '0xe060e220f508c34295b26b210e862b10e8efe9d8': (0, 0),\n '0xd3bf7e361b5027c032d4a628db3b576aee22fe63': (19768765402973000,\n  50768765402973000),\n '0x4dcdb66d0efccff52ef4d447d7dc274c8362dda9': (35720272114020815,\n  31522330387624775),\n '0x910947ff1342515122a7bf38f4e80afc3b4e4a27': (17060227704611716,\n  18204547365340216),\n '0xf415e57937a11b3532551f6c3020ce5b67c1c11d': (0, 0),\n '0x7e2f84e469a39015e8a2f51bbf06e350b99d6394': (37813145386737747,\n  18695618092922664),\n '0x0bcbce6b68da7c6aaae88675be5724f33b6a3e25': (167696622958030278,\n  164498120579896721),\n '0xdc702604a1bd2372333a445bd4cf571e2d050231': (940759166276111464,\n  943320369077813164),\n '0x1b6036476b15de0f50a2755dff60b2b2af609929': (33213651191369906,\n  43327501361031993),\n '0x64aa3364f17a4d01c6f1751fd97c2bd3d7e7f1d5': (0, 0),\n '0x6cfe9755269786f6681518c00bd22801f98f9e57': (3923703449535806896,\n  3934129371012845382),\n '0xb1b477b9c7545cc51cbfb4d58f3771bbe48e464b': (5927086770166873,\n  4487374976971093),\n '0x310297a69b30c368e2d0e1a5b7795c9d72ac2591': (0, 0),\n '0x2f62f2b4c5fcd7570a709dec05d68ea19c82a9ec': (0, 0),\n '0xb40e91a4e90a6da15c6607b82a04605f5bfb9b8c': (125000000000000010,\n  150000000000000010),\n '0x09e61f79948179c72e743e30b6fcf9ebb36a4bfe': (4453043394653692277,\n  4485620043891644077),\n '0x17e216fbb22df4ef8a6640ae9cb147c92710ac84': (8120625014744, 8120625014746),\n '0xdead30072080a33629b8b5111a1303914a2b4a3e': (1368967411929069065,\n  1357017624361478681),\n '0x6af1a16fde7346e7729fa921ad2ddf6a462061e2': (0, 0),\n '0xa0b86991c6218b36c1d19d4a2e9eb0ce3606eb48': (0, 0),\n '0x838db7fb2c96c7d4b61f6e2ffbd0d4c1373f1a76': (2208707913000000000,\n  2286007140000000000),\n '0x3ca32da2c9d972e0435ea8ce0d9107e564f88e2a': (0, 0),\n '0x25c365ade307c55e16dcb6541c25660b0bd70e98': (40489092548869889,\n  91294512143560551),\n '0x7dc1b253736df81a6b51f6d22183ae05eb8d5689': (34244442413397296,\n  59696578526643796),\n '0xa11a061e0fd87055d157445ce67774e39289ce3c': (508684645856958395,\n  20508684645856958395),\n '0x1c4ea55131e96471df0bc337f5a47e3122ef91c5': (10146892431395394,\n  22146892431395394),\n '0x1c19bc727eb4c79a757d0036008e98af3ac3c1db': (0, 19000000000000000),\n '0x4d0120560104bb88eddd6d4a78db1691feb69b06': (117699829479265365,\n  121003229479265365),\n '0xf7aecf1593ccfae0fb5d06a38f6da783c604f94a': (0, 0),\n '0x616ed054e0e0fdbfcad3fa2f42daed3d7d4ee448': (952078609138516262,\n  942359158060233713),\n '0x4cb72456e82aedd8b1ef0f08d03cc6bff96c6291': (809981524252810369,\n  809981524252810369),\n '0x035c50a4d55486e9e8ac986a58bf0507b3753d8f': (0, 0),\n '0x64b579404a88416071e70f8b68b67d666a518ba9': (0, 469677457093342000),\n '0xb58f3b925156bcc3df4a419e0696b5fa9a69bd7a': (1985430274238859604,\n  2042113209695264050),\n '0x6a09008c0041dbd389f64324b093c3936a4921fc': (15479615977828886046,\n  15817544448315187332),\n '0x963737c550e70ffe4d59464542a28604edb2ef9a': (38266822136928662213,\n  38263577915550192563),\n '0xbcb8b1f2765be1ebaf26204e204a7149814b5646': (872752667182927908,\n  927861161852311922),\n '0x047a793ec5cbfc7b110e2c5a746c72c420ac7665': (3780999351771436265,\n  4987792285969054554),\n '0xfde0d1575ed8e06fbf36256bcdfa1f359281455a': (48460873577208274301,\n  48451775712684610301),\n '0xd2607e019f2d007fa3a5b34b97b571653a9255e1': (623527591019042341,\n  623866719523653841),\n '0xa57bd00134b2850b2a1c55860c9e9ea100fdd6cf': (78610629725160608612,\n  78610629725160739737),\n '0x11965c1490efb3e5d5a6063e4de78861387c82b7': (199527178744984774,\n  3154418871122947784),\n '0x851b0a003bf1ca98ee84028848da1ed69a50cca7': (468619801183900475,\n  1464175071183900475),\n '0xe8215fb1e2ac8bf9b941803edfb265d6c04ae799': (173486543371785963,\n  10970566987393993563),\n '0xb4e16d0168e52d35cacd2c6185b44281ec28c9dc': (0, 0),\n '0x6ca61ef64e7e62d0358c0d8ac53f767f3a0954e6': (45934309617215419,\n  77590967139617215419),\n '0x9dddb24e8e0a063fce9d6b501cd8320285d3d119': (0, 0),\n '0x68a6a53785ae52d5c64f5b358c268f48cbfc73a3': (84874797971954205,\n  94041397971954205),\n '0x6a4aa35badeb1417811edb4d005384678f4da79e': (168173701724651503,\n  41255277717448387043),\n '0x15ea1bceff6bcbb1427e03af5d978b9536a3daca': (134962693503533760,\n  134934502637297560),\n '0x89e64d42dc1d61bb39bf46aa198070c8542a70ca': (5307516943914733017,\n  5307516943914733017),\n '0x29a199a49af8d657c110418c2b0d2f932b025de7': (0, 0),\n '0xe2ddf03ba8cdafd2bb4884e52f7fb46df4fc7dc1': (0, 0),\n '0x3c8b3f40f40c124c5a37e82ae9573d253da5f4a5': (0, 21000000000000000),\n '0x14dcae28535c4ede02d0b7ec4d5257f7326e0bf9': (102435045674550989709,\n  102224480609072820524),\n '0x31171013035531a322c5f122e4d52bd2132807de': (35363921156535831,\n  31165979430139791),\n '0xd672de6be3393d5f0b79a06e1dc17cf4adf4035b': (1133888096344310079,\n  1129997941290431427),\n '0xf5b054462ef5c4ce77feac7a5d805f162e140a80': (37594758560662327,\n  38343308850298731),\n '0x98c3d3183c4b8a650614ad179a1a98be0a8d6b8e': (5276334101117586891,\n  5276334101117586891),\n '0x2def199f6045e97d554379f3f3882655e6ce7eed': (39455495559123643,\n  35257553832727603),\n '0x189d81b32b847d94b12317c2fa64199d7cf506bb': (220985228727990406,\n  16217485228727990406),\n '0xe6487d7bfa9243916c8658edf99cb0edb25b2ca5': (46122951150619765,\n  30059171951150619765),\n '0x8cb5e212e6a3b70229ac1edb56fe5e6db199dde4': (101800750018706907,\n  1102745460018706907),\n '0xb7c9e99da8a857ce576a830a9c19312114d9de02': (0, 0),\n '0xb6077130b07f47600250606dc223b6452ab138d5': (0, 18900000000000000),\n '0x2c68cc907461860b840253ee10f944c626bf7773': (0, 4000000000000000),\n '0xd5ba14e1a7b8b999a71182aa8a9745a8944c60aa': (27912789936228000,\n  33119315834705300),\n '0xe17d27dc552ac48d8bc5e26f675feb50c0f1d322': (0, 0),\n '0x553e9c493678d8606d6a5ba284643db2110df823': (0, 0),\n '0x60a19c6ba54c92ead4c8bd748fadbe19cb9976da': (1037321474616000,\n  24578525223000),\n '0xa35aa193f94a90eca0ae2a3fb5616e53c1f35193': (99980000000000000000,\n  99980000000000000000),\n '0xebd44f27049f8ffad415832ffcbaa8a7400fc941': (0, 0),\n '0x31c5dc1f57d25d54e3cdbe1ee7c7333e87b1956f': (0, 0),\n '0xae30cb61696e86121625076e44bfb745dafa11b0': (65857492418381950,\n  69217428271238850),\n '0x93a08814812bd628b1a432a46bf256644dde8906': (374302835134749079,\n  374302835134749079),\n '0x6c99c88d52c3acb0765192c8397b5dd1a7792db8': (0, 0),\n '0x3a5f751be98cd426e43bdd7213f269c0f1e4ec17': (0, 0),\n '0xd9c8093bda355c8c0968988eed0348136d9855a9': (686189139469000,\n  15677552658075000),\n '0x117f5accf69f9617d735e4dc22fe7c0aee973651': (0, 0),\n '0x82bc62266c38181a4f50828fc3ed8794e22d68be': (519521892478866610,\n  491126990922885912),\n '0x30fc4969c082a2d318e683c5420d158b695da736': (0, 0),\n '0x5f6fd9d880be6e209d5ee7a5517dfb40b8a9d81b': (153501069074455313633,\n  328501194074455313633),\n '0xb63cac384247597756545b500253ff8e607a8020': (0, 0),\n '0x9fb358896c9b2f872be9006e80bbaa810b8e142d': (38302912991063110035,\n  38303165837815324035),\n '0x4dacce40a456284a3076b6f70e48eb89dbe19e91': (0, 2500000000000000),\n '0xac6d30cff9e03da61b2e96646f2a119a424e5008': (27425410008515469,\n  28580996916184369),\n '0xef48569cf9931e919e5872c649d323ab4bd00bcc': (0, 10000000000000000),\n '0xdb15a26827a6bab43aa6d99994f96c61138d68db': (0, 0),\n '0x561c7a09098309b8f877b78fe07a62cf01b9ed70': (71844548885393000,\n  71844548885393000),\n '0x76d31201ae2acedcdfecd304cf955c3ca08a222d': (0, 0),\n '0xbd87c3a0bb7558cf1293c20ebac284bf8c9f879f': (0, 0),\n '0x914990bfd8172c332fdfff080f909504ead0f30c': (0, 2500000000000000),\n '0xf31110d1309d789037db46fbeba7f60b4441c801': (73422614584307967,\n  75014614584307967),\n '0x8f20973b51958c6024a5c433a2f208e4ffe0c03c': (7011236239462000,\n  7011236239462000),\n '0x0d53497746e70c8cc2e5e8d2ac5f0a33f93c9353': (0, 0),\n '0x3503c540bb853116cd9b75280f2c68d6eb434eeb': (33821917838171145,\n  30618775052162864),\n '0x481c6116506b890308c239cc6e7053fe72ad0cdd': (22968256766065406,\n  39651523332645428),\n '0x829bd824b016326a401d083b33d092293333a830': (1169072334587521068859,\n  1169072334587521068859),\n '0xff04ed5f7a6c3a0f1e5ea20617f8c6f513d5a77c': (0, 0),\n '0x51d2ef424e833f4856fa9c311b480d274bb906cc': (282907603661564912,\n  285101234776351312),\n '0x6b912f9dd1a35794f6cab59fdd1adca0794a64d0': (86399992013306,\n  842224903379306),\n '0xcfb152e5b93fc2c9906d4ff41fc8407dfa5e8851': (0, 0),\n '0x15a5695ce570836725d1b3b604d2e6b50a46c593': (271764768837015276,\n  271971019300562156),\n '0x56266d02c941d0dbc3988efc5392a73944ad8e48': (0, 10391000000000000000),\n '0xb5e8caed2f96f8541983c04252cd81c5b9da88b8': (368771279206604701,\n  364277317041611701),\n '0x0d62bac5c346c78dc1b27107cabc5f4de057a830': (0, 0),\n '0x20893f6e9b00ed77fe87bff72122b375a7b4a662': (26709834162300235,\n  200026709834162300235),\n '0x53e0e51b5ed9202110d7ecd637a4581db8b9879f': (0, 0),\n '0x46919f4016befb3c9a01e72a1cfc395695276a01': (281548289499432664,\n  739607125689337820280),\n '0xcdaef77b9b9b3b390dd2be65613c1e9e611d8310': (1165701414446089103,\n  993336884897501018),\n '0x953fc389a59d1fec79e83a93891cd954552e2f5a': (0, 0),\n '0x8d348af32dc4f7f682d9253afd8be04af959f823': (27444762172834375,\n  27444762172834375),\n '0x4276bf06aebd8a1f3d89a1fd5bf84bfa1b7d03ce': (507656016733859162,\n  509629667499773850),\n '0x5a6fcc02d8c50ea58a22115a7c4608b723030016': (23484998214440801233,\n  23225634615392220825),\n '0x5ee6650321db1c9d370aae27a362a01a0cc4d5e5': (0, 20700000000000000),\n '0x785433d8b06d77d68df6be63944742130a4530d1': (0, 0),\n '0x297d69af5d2c5449fff1f0779878470756f59e09': (2909574739568728942,\n  2866599886976405237),\n '0xd262d146e869915444d0f34ecdaabab5ab43007e': (5760525772276153396,\n  5760525772276153396),\n '0x533dfe6119d82947777ad271ded162715a92d745': (0, 2600000000000000),\n '0x7b14df2fb3e02215fa5525ac8a5abdaaa6314ac0': (0, 0),\n '0x6133aeea8bb04dc9f9b15c9ea799c550c25eb5ed': (0, 0),\n '0x4f509fba9290dbabd0e07bf78cd01d5c7d6814e9': (5522500000000000000,\n  5522500000000000000),\n '0xd5bcd2aae07bd691d83a9bf72886680232a2cb09': (3146839268556934404,\n  3105038738438869216),\n '0x7fc66500c84a76ad7e9c93437bfc5ac33e2ddae9': (0, 0),\n '0x9c3598c6a161e54094ee0f787b394272f939e0f8': (92988308296051964,\n  41991638737687364),\n '0x0754fde6be72b9603e227ac785acaff2edbe2bd0': (713000000000,\n  6853800713000000000),\n '0x0000a0756737268a633cd9296f1b154cf74430b6': (7493635849502923970,\n  7207600965968257723),\n '0xa49beb93fdf20bc38c61d516804d87f2632fd41d': (6845668609453146475,\n  6744216457433121386),\n '0x99f2f6d73bf7687701fc5fa44ec47463b516d9a0': (37277305335394968,\n  38552100080834022),\n '0x71fc860f7d3a592a4a98740e39db31d25db65ae8': (0, 0),\n '0x414ce7eb49e3d0eeda98084838d142296309895b': (9997245318000000000,\n  9950004185148564408),\n '0xbc1eb4359ab755af079f6ef77e3faac465e53eda': (1433792126443952574,\n  1431480033790937643),\n '0xba12222222228d8ba445958a75a0704d566bf2c8': (0, 0),\n '0xcd111aa492a9c77a367c36e6d6af8e6f212e0c8e': (0, 0),\n '0x3b78637e124f302ca73257ea6babc705ac0208dc': (0, 17712100000000000),\n '0x511f0c12772479204968ae6c988984bc08d7a2f2': (2227492330, 5154022227492330),\n '0xc5320d697fd3b4aeab6c2c7da5e5c7effbd9fc34': (73195775789826052672,\n  72843403610772317497),\n '0x1a6aa40170118baf36bac82214dc5681af69b0cf': (0, 0),\n '0x0b0fb9b2f00ee687fd93668bfe4583231ec532fe': (0, 0),\n '0xe59d2c2cfe8459c53917d908177aa25fea5b919b': (0, 0),\n '0x69fd3ad259f110bfbfcae77d34979239d4e6c9e7': (90401342623756979,\n  94053054002489779),\n '0x5f0df4ae784db40b2d5460aa4415a662527e43cf': (2304081360268657347,\n  2304669185111250250),\n '0x6a20b9a3e284657abc8da34465fe6f34aefd6b3d': (0, 3641280000000000),\n '0x7f6f2936b7c1b77ade5a19d8bb5e9b4aa3c71fc6': (0, 0),\n '0xc2e9f25be6257c210d7adf0d4cd6e3e881ba25f8': (0, 0),\n '0x756926744faea6559c2538ddfd48cf8deeb471f6': (259730231997020875,\n  234824569783260675),\n '0x23b5ae48b2641ca6f29f6a8af9c56a01227de17f': (0, 8519800000000000000),\n '0x38261daadf0b90c390fafbbe88ebc9b831bf973c': (89977892522984970293,\n  84870374794384361537),\n '0xbccec45297ec2877ba96ae86b2fe59f95a0522e6': (5149248306544939427,\n  4459765603976278990),\n '0xfb4b42be171bcfacae0077336745bea6c54fccb7': (0, 20000000000000000),\n '0x89b5791089a132c76099a95a1aef1befbe9ea8ad': (10780592894145500,\n  20780592894145500),\n '0xe172f3eaa5dd6a2f86fbb736008f709257eed489': (197065359542958318,\n  197431481879799570),\n '0x64d40a7211876e030b023667f00a2a6a4da968dd': (0, 0),\n '0x0000005025298557e87b2e3bafca55a8494b470a': (10835368071562036817,\n  10306366185476366645),\n '0x683f8ef45f964b56cd22fa8cdbd2d12e62b522ae': (400414692135530935754,\n  400414559426749429754),\n '0x46bfa36e19d7e5baa0a039f7e5868b3592c85be2': (441305762964301277,\n  434763002186143253),\n '0xc22a36217c3e4e05c1a626120bbae52c86622af2': (0, 0),\n '0xd4a2f6440c27b7c86997c7f52fc092921753e15e': (906228045836369424,\n  903683623911588717),\n '0xc69b4c6ffdbaf843a0d0588c99e3c67f27069bea': (0, 0),\n '0x6586e12d17add3696fcc3ccef4b39a59d0593382': (0, 4000000000000000),\n '0xc3116569528be9c6cf963c6d7f0f2a990778db6e': (0, 108580803378986126),\n '0x25f430a7bd45b1fa42d39601c8106835d798d8c9': (4561814964779655817988,\n  4561824964779655817988),\n '0x369615bc57975b06c418f42d3fda3754a385b97b': (3004702169006600693,\n  3001292470674586321),\n '0x01ddbe4d152acf6cadc68d97040a8da1b97a3ba0': (0, 0),\n '0x1df610099af9e0cc827b0963854fb63d2787366f': (605921760625687743476,\n  600916510625687743476),\n '0xc2a1cff663bac43084c779b61805d25a69be0fb3': (106956260389127950,\n  304392729565425),\n '0x000000c1e971f14b6bbe9ba0e75f733dc56c7f1e': (5731601945900931011,\n  5450758395105381999),\n '0xbbad96336943a36e3e292d973b3382dd0ba4d1ef': (26006067887303994267,\n  25877650635569139286),\n '0xff742d05420b6aca4481f635ad8341f81a6300c2': (0, 0),\n '0xa9bc8ca9d8c8598752b830d2b8bc55e1c666566a': (50804629226967398,\n  43681298757637898),\n '0xa1f6e60b2c65a660580671764933247562c901a4': (14447877916664196,\n  2609681404347696),\n '0x3335e789baf9279f538a79a81dda7523d59b1860': (14087954980605824,\n  10394811246180124),\n '0xc30b67a08e962b40f1fa0a4c1052c118ac0a61c6': (203345292250301934,\n  41202345292250301934),\n '0xf7e8ae1d571cd855dde340245406bcae8297d2e5': (82414112504184840,\n  82414112504184840),\n '0xf40f793ba6bf4ff3b7a7180e4da9c721bea85c69': (2847557422813622798,\n  2849559150326394358),\n '0x00000000495cd01c752890e089d513e87a008508': (446125202794499392,\n  444902748775370392),\n '0x859b9d6473f84acae0431e12da2f93d74937df76': (0, 111505391005722033),\n '0x66fb1cd65b97fa40457b90b7d1ca6b92cb64b32b': (1077793965137311805907,\n  2154793965137311805907),\n '0x30a933add6fd601d152aa4aaf7620b5e27e88888': (23756163444514861665,\n  23756162117775199879),\n '0x2dd1b9410c73e16b60240e529e38e30425f00d4e': (0, 0),\n '0xca7b6daf018be733e3570884e44eb91189cdac23': (515366709727889047,\n  512923802639964574),\n '0x611dddd5a25655f8c1c60abe103773408bddbb58': (711223533514969515,\n  711773314714783515),\n '0x22a18a7d88dcb9c0d44cc1091ef30f822bb50f9e': (0, 0),\n '0x41332e61bedddc9c23f463ef5da4ca9125f6af3f': (279169943391521184,\n  177798943391521184),\n '0x6221a9c005f6e47eb398fd867784cacfdcfff4e7': (230183208124009897,\n  228977514396609417),\n '0x5d5d4d04b70bfe49ad7aac8c4454536070daf180': (131889764858649214,\n  141507989754822206),\n '0x8668eb7a9cde59618f4c187415641063c02f41c2': (209463559521246305,\n  11590298291436942198),\n '0x28fe69fbe7aa0c0a834e529561b8ef1494371e48': (99314917874176260,\n  101821616316432760),\n '0x631794a6eed2d23087af0182cd6d56b0304b8cdb': (461690235508686232,\n  458453248611270568),\n '0x7e9ad2adef17028db0ca07d2afd5d42ce424fc91': (170687720068210424,\n  131148909038684516),\n '0x23e7623013f55b679cbca898c184368c600e02aa': (28992287119314239,\n  42704558785311376),\n '0xbf64a5bd21813e88e3568e26a9194996c8ffcb95': (118642297070986669,\n  121945697070986669),\n '0x9ff0f05912388f1dffb3393bb02b32ad8b5781e0': (61305615232158285,\n  36214598320874375),\n '0xddd0730d7fd7490533a187f96b463e752e744a31': (6773468911580004358,\n  6777313086646332858),\n '0x8f4aa515300ce66923be20b55cc83f6c9f756b72': (0, 19000000000000000),\n '0xd6dfe275b407e0b96c0d30eb6f311531b02ecfde': (105811160792280613,\n  106262408217706928),\n '0xe58f8936ea9a9112fb640d22029b4dc3849b2e2f': (0, 20000000000000000),\n '0xfc9271b95bcbee0b45900a3f7c6bdbbaaeead6f6': (0, 59523450000000000),\n '0x7be51794c598f7e12ed5d06ba8b06624e7c29dfb': (38071492558037112,\n  13814699804520612),\n '0x8a5e6c1e3de17e924aa9467587b5d017e5c8627b': (133814851559322969,\n  9325481244543969),\n '0xe45b4a84e0ad24b8617a489d743c52b84b7acebe': (0, 0),\n '0xf11f22e714520cffd5a1cbc98c99a9a40b2a4eb4': (115044477653259081,\n  118347877653259081),\n '0x58b418d98a63a7020cf899ab6490ef22cf2c2c9e': (0, 19000000000000000),\n '0x875aca7030b75b5d8cb59c913910a7405337dff7': (0, 0),\n '0xcd9f53158fd9b37def62676e72e778c9f23620a6': (45149668080318617,\n  46154266798745417),\n '0x997b54d967e0452abf233eb12b6829db84f96c2a': (1133532549521230224,\n  1133282899794027205),\n '0x2c36170fd467bf64283b76cdda5ddf2e5de82a62': (0, 0),\n '0x593e16c04f675077fa5e7f2a724ab0aeaa0bf5cc': (65429027389135675,\n  53965997658385675),\n '0x394ba5efba0abed684a1a3b7f9b5d4081dfcd5e2': (24998934054276029600,\n  24989005433798073350),\n '0x476defe2ef184628e7e3698e5edcac270816bd04': (88621159408994334,\n  1110660555335049525),\n '0xff3212f0134336392b2727bbcdb4dc7ab4e2038e': (0, 108658252304484348),\n '0xfd4a8c0c44da63bf8ccafc911a7d99e8c93d4f14': (0, 512222320000000000),\n '0x192206f465383ac2b32856464eb5cccc3dded628': (0, 19500000000000000),\n '0x01fc666b08080edd41b91d21b40010fce9dc8aa4': (750753104964553369,\n  744372953127137473),\n '0xacc7880bd22d9e2390b727ac987cf5f1a7606958': (0, 120000000000000000),\n '0xd084944d3c05cd115c09d072b9f44ba3e0e45921': (0, 0),\n '0x9d93dc818967d388bae0b57ff5fb2cf3938bf3de': (54626706601980831,\n  237146904908965323),\n '0x530537d642c604faf626243328bf7162b149d4b2': (4049806342077441685,\n  4046569355180026021),\n '0x8660116e595090b1d26bb988d43558bf80146668': (0, 0),\n '0x887481f528abc37bb14472be2d39c9ed9c6fd2a0': (0, 0),\n '0xe0d620f829ec31b09a43f05fb73f4a5d5c773341': (389394223079333422,\n  5388389223079333422),\n '0x9eaaf5be35c8c854228ea39b62a919f7af870b5e': (0, 0),\n '0x312fbae38af87e69544075084e2d7476b263d463': (0, 0),\n '0x7dacfce9eacdca48cad5ba0b61560586c375890b': (2785309561444608350,\n  2969105302928204739),\n '0xdeb288f737066589598e9214e782fa5a8ed689e8': (0, 0),\n '0x60ab5bc468c072eb54ec2437a488866240fdda6c': (303151203562071819,\n  303151203562071819),\n '0x1d42064fc4beb5f8aaf85f4617ae8b3b5b8bd801': (0, 0),\n '0xede29c55963ad7e0dd5283909e2df7016fac14aa': (726176900141279018,\n  725111084063225018),\n '0xd7b9cc24af9a18f947a98b571f2ca89668e635c1': (35464664274018824,\n  29546267687628524),\n '0xba5d0999d8e2b9f255f5eaf1220363f42e5d5aaf': (0, 0),\n '0xba8597ce1d45cafc654e36c6922194c02ac11147': (0, 0),\n '0x8f3208276888adda0e956677438d2df31bf7caf9': (6794882000000000,\n  354423992000000000),\n '0x8a3efa2887fc53c8e85553fe846716967aa9beea': (228986265966285411,\n  229568942755844366),\n '0xc098b2a3aa256d2140208c3de6543aaef5cd3a94': (240037431426329856682553,\n  154285471424849120278918),\n '0x2c32dfc4df92df02ae9d9ad0750a3f209ddca61a': (0, 0),\n '0xd1b9088fe5be99f88b2052b07bf519e76b3ad22d': (18098665063688777,\n  21887037483380911),\n '0xedb171c18ce90b633db442f2a6f72874093b49ef': (0, 0),\n '0x1565e23abe9c15c714b662b77c87ed9a61ee19d2': (1728296706835048207,\n  1727402900386618207),\n '0x57004b440cc4eb2fed8c4d1865fac907f9150c76': (0, 0),\n '0xce27d091cfea7a81712522d92e2f4029f2cd88d7': (402294906249407806,\n  387368639040070894),\n '0xcf463309fd4b9c60f79cd0ed45f7bb7ff734db47': (0, 120000000000000000),\n '0xf833faa3995070606964b10d4eea347a9ed4a80a': (0, 0),\n '0xd9e88d33d3d8f863d1b3781b51a3c1b33243e6b6': (94320310596945638,\n  82048310596945638),\n '0xd30613b64a9f3a3e881e9b46d69af9e54d507ca9': (117642297070986669,\n  120945697070986669),\n '0xc92f9232362073eda9da9e5e6af0dabbd3783d6f': (0, 0),\n '0x3aa370aacf4cb08c7e1e7aa8e8ff9418d73c7e0f': (0, 0),\n '0x2c1bc91ca9571a45374e8397c3587a19ca8ad6d0': (13838719827741704,\n  4875838719827741704),\n '0x65cd2c617bc22bfd319d940f0187c87d480a2387': (707477995815343737,\n  715668995815343737),\n '0xefcb8060daaaf2afb0066f2ed5f065aa3f717b50': (24700321480400000,\n  35000000000000005),\n '0xda436db56e7d5d7ceeb20003fc63acd4d8b465ba': (200622995550733953,\n  354885485550733953),\n '0x24cb24bfdb729380d4cc322e24e2be93e30e142d': (26634566060305835,\n  23431423274297554),\n '0x0dd43c4672ed77d54a6a2fa4f0878164bfb0980a': (18856824454357335,\n  16241519566831275),\n '0x304c34a3fe80dad14020d47706f4f52ca20cbdbe': (1765501070341364019,\n  1761676837924508483),\n '0x62d53e3676a30adc5d3fc8d3b827c1e47fb6e988': (251964596262803207,\n  258191736262803207),\n '0xd4fe0f44b995a0242ae0f2e4913ef6eb70969c73': (0, 8566091790000000000),\n '0xea337cc038ffb1b1840f46063562a427b9842399': (9870312632829248,\n  8679139868649248),\n '0xa790f6c90b40d664a0aebc790ad569e2e4b58b05': (0, 19000000000000000),\n '0x87ab016163f83f5d4bc6ffd60c9b1647f9e4abe7': (95118481464140083,\n  95066012597903883),\n '0xbcdd09d8a50ab74743269935d45b6adab062aa9c': (3124606767860559620,\n  2985463334717536935),\n '0xcfb4f5102d5f2fdadf7ca5b6f56a3805aad690b6': (9051407830878964221,\n  9048202055666286138),\n '0x23925074619f5ee37efededa407d3dff09172a9d': (822472873061797002,\n  45998641623061797002),\n '0x0fc3657899693648bba4dbd2d8b33b82e875105d': (0, 0),\n '0x4db20f4db88149604908ce397e27714d51515255': (6285992854220710339,\n  9937853658678520103),\n '0x4e6f6c189b456a703733d5085d1e25a5fec844c4': (0, 109876615792379580),\n '0x1456eb9cfb117ee6f1fb618f1c1645b72c3bb71a': (0, 0),\n '0x6a5ddad456e3541be1567136ccae392c63e60740': (1518969407850100433,\n  1519649367022132433),\n '0xc5fb36dd2fb59d3b98deff88425a3f425ee469ed': (579745192275885232,\n  579745192275885232),\n '0xff00d4fd6dcd4599fea5bed04cd4790d10e7cccc': (216401230991484388646,\n  215365422112702561618),\n '0xd6c3f1a3a2a454260db1d1dc4572f4dd232b9f5c': (146479954478429055,\n  146594051110757055),\n '0x2a9f4ba40553e4155c6b885b9b46efbd2ff069da': (0, 0),\n '0xf5dae674ba0dbc282bcb3fe03db3f10d8d52f65b': (92980350311091956,\n  78379159618490963),\n '0xe249e411fd5fe8f25e78359933c3443dd52a0942': (49460250698406110,\n  49599000818292110),\n '0x19c0976f590d67707e62397c87829d896dc0f1f1': (0, 0),\n '0xb8ffc3cd6e7cf5a098a1c92f48009765b24088dc': (0, 0),\n '0xeb1a9165b4688c39b16a00d716ce59e93c9bbdd4': (22607320447487909,\n  14605207430937544),\n '0xf6ce16935fe3e09b1388555efec48226c6b6f3e6': (147345570965205,\n  136647345570965205),\n '0xb03fff6ad3f1ee2a0dca9ec942ff191890e7f0b9': (42831203692364460,\n  42894946549319760),\n '0xf9054c7de7506c73c9646509d3402b6f871cbf73': (93484260037627095,\n  94762427291949495),\n '0x653325afdb00dd741fee25a694467eba17e8e93d': (395862959744063886,\n  448859537559923967),\n '0x74b01c2371988f6bc173e7386f3e012790e57f8a': (199144103357280703707,\n  199152203357280703707),\n '0x8ce917bfc4a68d29d228464bd243eaae9de5174d': (0, 120000000000000000),\n '0x5fe917b581f57b73682a845430f118fb3b0e9760': (6128669429241520774,\n  6128928730567741774),\n '0xd78ceba1f9291dade3539bd558eb5d9b969ec66f': (8067556699041550262,\n  8060677705930598886),\n '0x42bbfa2e77757c645eeaad1655e0911a7553efbc': (0, 0),\n '0xf12b47e75f9bc0bc27677e135429e7d3c587f39a': (196320088522682088,\n  45382226732185654277),\n '0x08ce97807a81896e85841d74fb7e7b065ab3ef05': (0, 0),\n '0xb49a24aab19672dc728364acca6e8c4da3a8da1f': (832524025140939000,\n  848424025140939000),\n '0x845f4413479e14d1a54a0c4128cb87727863bd0c': (275429321844878934,\n  276196235539875334),\n '0x2006f96b928e75b6ad20540aaf396b8448d0ab74': (393988151808406642,\n  389224614417789847),\n '0xdee942d5caf5fac11421d86b010b458e5c392990': (771356717282551635,\n  758365830759204790),\n '0x106a6f1a34908930daced816eaeaef16ce53e81c': (872403359205000,\n  100553665870639000),\n '0xb3b765f03701b711fbd4f749b0e267b85d769a58': (78887289532667356,\n  82539000911400156),\n '0x2d18834515d88bd88e6bd4810ef28abd38a4007b': (0, 0),\n '0x4e8ae3b2eaaed7e81d445dc6465d303051b5e857': (4474353914114384653,\n  4372365051269793086),\n '0xe85621ca863cd77400e0d14ec1d9ed91352bb716': (131165808726125860,\n  130147036113880419),\n '0xcf2de5acfb7763ce823542173fb65e2ca2333e84': (113492767188358162,\n  109542958685926167),\n '0x7d1afa7b718fb893db30a3abc0cfc608aacfebb0': (0, 0),\n '0x5d6827bbe3b80921b9c1236fdfbaa6ed43291aaa': (2065603792083348313,\n  2060734681970518150),\n '0x0039b625b1d8632c7a0057c964ec58a9f39789d3': (40523140684005433268,\n  40117008085586509580),\n '0xb551b8385040090906636dc58ba3b16557e294a4': (604744186285085924,\n  604623289686038924),\n '0x82629d45b413afbae1f488968ec1143a663227c2': (98812293550396914,\n  107028257310700607),\n '0x264bddfd9d93d48d759fbdb0670be1c6fdd50236': (0, 0),\n '0x6d2fd05f0254281d1383ff04da3a57aabe7422f1': (1104583702540557362,\n  1108232627350688862),\n '0x6ec3e8203dd80cfc236bdf2de4e1a40b0d7a7b5a': (2757767991827759,\n  4115920343882759),\n '0x380e5b655d459a0cfa6fa2dfbbe586bf40dcfd7f': (2361374523806355508,\n  2357344544474341136),\n '0xaa570bff9aa30aa540b4ea28365194ddaa9a72f9': (35909623459269089,\n  29991226872878789),\n '0xcd82f6316974e4e8b4c76b06b0eadc1d29ff08b5': (3091023742835928365,\n  3091023742835928365),\n '0x64e7f52c5050ca756fa2f9be7e3b55a4db6bc76d': (4692795358687109721,\n  4653056965336453721),\n '0x10882c42e00cde26e9b7f4812aa70ad5579c717b': (0, 3995000000000000),\n '0x4846efc15cc725456597044e6267ad0b3b51353e': (0, 0),\n '0xf2f400c138f9fb900576263af0bc7fcde2b1b8a8': (0, 0),\n '0x1ee48f20c3d315f596c72e28a43850703807d9d0': (0, 18900000000000000),\n '0x00afc73e1a9b0bfab10138ac7fcf25cf2cfed42f': (19688442769463000,\n  15436688442769463000),\n '0x96cf2eb1bd886af2b12abc36e2017534bc33bed8': (0, 2225751960000000000),\n '0x7e63870ac9cb1491928e3c8922c19b2595331ac9': (6132892037894637612,\n  6120952646569147020),\n '0x222db1e3abb6dc772e5dbdbe5ae553e338666666': (4829121103257322,\n  7222034208672322),\n '0x1c7b17362c84287bd1184447e6dfeaf920c31bbe': (240814410240139969772,\n  240711250640139969772),\n '0x19eb419845bd649e37de1c88eef6699752e47298': (2501217796949979000,\n  3001217796949979000),\n '0x209d3040c2dedcb7124be89fc6849423621edeac': (55479637927828400,\n  55479637927828400),\n '0x5119d33f4b52d02baaf195fe7497f62574f02763': (817757350000000000,\n  814607350000000000),\n '0x72958a40e154ee1358950d402b8f71b6cda9675c': (145626713039101382,\n  155481913039101382),\n '0x64f29d9cd5c6c26ca3d9ed47fc690126ec79a2a6': (571095030841282703,\n  571042561975046503),\n '0x2c0873a1d34b758292338f7d39c426c27e03f157': (885237248000000000,\n  847656248000000000),\n '0x8b3a7d074856fbbf1facf907e1bdc011a9ee72aa': (0, 0),\n '0x436548baab5ec4d79f669d1b9506d67e98927af7': (0, 0),\n '0x320a019e5659fa7e07739ead16caeba2b7bc7c6a': (60054448353958151,\n  60458210842669703),\n '0x8d4e2a030b67e404fc3aabe74831f7be79a7109d': (0, 0),\n '0x00000075877451c59d5777be4b7b353f4e9cb002': (7713735770156551172,\n  7384848664665518489),\n '0x70ea1136fd9a126a5b0cb92e76fb5ffdd294c906': (0, 63340000000000000),\n '0x221856c687333a29bbf5c8f29e7e0247436ccf7d': (5839097077889924156,\n  5848896475192103300),\n '0xc7bb32a4951600fbac701589c73e219b26ca2dfc': (0, 0),\n '0x479bc00624e58398f4cf59d78884d12fb515790a': (31022086789122710958,\n  30756673861473651611),\n '0xad1cc527e94f15b47af2d54949912986a028f6c5': (37659595689137942315,\n  37659595689137942315),\n '0xdb17ac05d43816afba2ff951dbfdc5095b2f46be': (1249401512491789400,\n  1555401512491789400),\n '0x24cd702dd73faa74f9f52d267bb3a6077ec0867f': (187831883113252936,\n  186101758615692904),\n '0x06c205269eb9bf894d679bc99f5ea2d0dc0cdc47': (1171836460595068579,\n  1169214704208709917),\n '0x357d96cd8d906e4e4c39fdbaebd2e40229d1aed0': (602037209056239585,\n  602037209056239585),\n '0xb6c91e486ebc8456eef5e9152a6fd394ffa7ca4a': (190801553817187991,\n  194453265195920791),\n '0xe3430a0d4688862517243b222871336204f3ff39': (86404684899044444,\n  78646683268574822),\n '0x21c1161af7884cfdbd2602fb3a8098a1c16da113': (0, 0),\n '0x31a7ca77c0bc7a26a5ee69ea3e65363ead6aa322': (5145421076012727684,\n  5225229052011468816),\n '0xcffdded873554f362ac02f8fb1f02e5ada10516f': (0, 0),\n '0xb86b5a579f9c55def6821f6f75e6d9cbaee5b44d': (0, 235400000000000000),\n '0xeee02762d69291753565180cab0cbcfce0f31ba1': (0, 0),\n '0x516dcf0ad6b5dbcf469c659f07e560dfa1a417aa': (134394665697608544,\n  133799330771404449),\n '0x15fd5c75943d9ccbaaf3016dd784257e5111005b': (0, 111944864237669076),\n '0x2987d497d17f0291b8d5857092a72dba32f3e43a': (0, 0),\n '0xdf55670e27be5cde7228dd0a6849181891c9eba1': (0, 0),\n '0xe4e4003afe3765aca8149a82fc064c0b125b9e5a': (0, 0),\n '0xdef171fe48cf0115b1d80b88dc8eab59176fee57': (0, 0),\n '0x166c4e088d758b8eb47b1e2f057726117164e12b': (58896077952660000,\n  107550775967952660000),\n '0x5aabe400af0678b8fd82f59251e3fea5e53a291b': (70704673283149242,\n  62946671652679620),\n '0x6c940991ba4721821bd994fe7835faef96124a82': (66492326928858478,\n  140492326928858478),\n '0xd5983c209dc35d429bbcc37b734951a798f3d154': (3180859564273819903,\n  6236944175080369897),\n '0xb6181740901e9aa153375666bfa46fbf917050bc': (209297127403204549,\n  154818352022150749),\n '0x52c635f0c85f2b40f8206a5afca7ec7091b945b9': (285694726280194799,\n  285884085511857399),\n '0x67de5458adb2df5d8dd7c65e4476f709a41377f1': (0, 67500000000000000),\n '0x95094826b29e472c37c1893877d6fa985f2f5833': (18660928000000000,\n  28516128000000000),\n '0x97d68c7813a786d42ded19a5efd5a5e6e8ed6a90': (326834843652594028,\n  327105443343821881),\n '0xa47445f9170c17b64dee893463563fd3ee2b7fa9': (194185558792855584979,\n  194240558792855584979),\n '0x2a4a7afa40a9d03b425752fb4cfd5f0ff5b3964c': (23647287178820915329,\n  23567588690042584452),\n '0x97a6ab9246d5d402bc71f666efc20bfc1241e25f': (0, 109790183353113913),\n '0x4ffd17ebd9f306f17188f49a7c30b98a6798e528': (0, 0),\n '0x2f1390ec03a03e57a1406bdef57c9cf487f62b78': (14456215034713980,\n  6927070553216975),\n '0x6ca55838e712b899c29fa891f6523045071d8d36': (65692220535643426,\n  57934218905173804),\n '0x14424eeecbff345b38187d0b8b749e56faa68539': (0, 0),\n '0x0554f068365ed43dcc98dcd7fd7a8208a5638c72': (0, 0),\n '0x41e5560054824ea6b0732e656e3ad64e20e94e45': (0, 0),\n '0x7893bbb46613d7a4fbcc31dab4c9b823ffee1026': (0, 0),\n '0x13300af8e4d86ecda81fc48e0449b96b94b8f6ad': (660229740290600403,\n  644642449494174279),\n '0x18e81d6c7c3b645df41c014cb9958bcfb4111f34': (38846635018596949284,\n  38833324509846949284),\n '0x2ff9817fd472a885c6b3fc90562829de96c454ad': (89498052265319966,\n  85548243762887971),\n '0x5720eb958685deeeb5aa0b34f677861ce3a8c7f5': (0, 0),\n '0x4af1ab9b76aa0f2a334c0cf67418d9f60f9b76af': (332093897670289580,\n  363691256989639916),\n '0xec9bf38c72d871acfffded3342fa7e08a61bbbbb': (102122354870401366,\n  106609281968073444),\n '0x4bd334749c7bdd7f6ee8a458cc1981a9984c1d97': (89058064741660844,\n  82895524653006974),\n '0x4b1e52aff520346189c9960964d1f47249c6723b': (0, 0),\n '0xf79fc43494ce8a4613cb0b2a67a1b1207fd05d27': (0, 0),\n '0x738a5ac77725de2e21ecd937815ab7a2d3ef487d': (230442763958667976,\n  212429386149531690),\n '0x601d199d1f14b40a5846d458f436c8c61af7f060': (192575975279522384,\n  191116084253120408),\n '0x7f50c5776722630a0024fae05fde8b47571d7b39': (0, 0),\n '0x4c6767e261b070b1cf1046dd4ec8ea48c6fee1e5': (5487936978400571,\n  5602033610728571),\n '0x2633162ccc812aeb22b82985371f5f19f1358b21': (46333287416039681,\n  41633963464676381),\n '0x6797e7dbba9d108072a5256d8a0b63d4b3dde110': (25130575766954687895,\n  25128644879461638739),\n '0x8f5906963ae276e1631efa8ff1a9cae6499ec5e3': (2133738892539170818,\n  2132726149589777818),\n '0x2b2e8cda09bba9660dca5cb6233787738ad68329': (43655649155313413,\n  43655649155313413),\n '0x4e68ccd3e89f51c3074ca5072bbac773960dfa36': (0, 0),\n '0x50633c2fd1c38dacfba118a35d8986cf297182cc': (1784456801579688,\n  3895106801579688),\n '0x76a8d26b61495a4a8f60e08be83912194a820a5c': (5285372436521234,\n  1314170997695421),\n '0x1016a55d75632b93a0a8cfdf3704e39487b5a056': (109667294817009046,\n  109667294817009046),\n '0x51d84330e9b0be75ed4fef85d61ebc51fc0aa677': (0, 0),\n '0x1ea34655dcea330c799e9382e97dd834f9bf2dbd': (129741160965908915,\n  129741160965908915),\n '0xb83e3d64939f50b7e0ed4ea6b747c442dcea295a': (125098450714766678,\n  83657324657956138),\n '0x000000c47913af2a4cd6523bb32f45d1023d5dae': (6125931759272437170,\n  5852834524838526996),\n '0xeca2e2d894d19778939bd4dfc34d2a3c45e96456': (25993594053301456131,\n  25965321921693095900),\n '0xd2c7aa8a0858214082037c52b4516cff1707c411': (0, 1999000000000000000),\n '0x3ff51967718e9cb859b3e33da8a845abad396cba': (117679209530598669,\n  120982609530598669),\n '0xd38488aed4f4c79ff01c032fe6c0e62ceff4c041': (0, 1200000000000000),\n '0xa3381ef7c7a880be3f873048b25c09533672438f': (84715724000000000,\n  95556444000000000),\n '0x89107899991647a7d1a0bf8333e2579750d81a83': (120530674593474566,\n  120981922018900881),\n '0x615889f1050019d5d9def614b57fb3964beb9721': (1486553409826624,\n  592746961396624),\n '0xa34756722eee36098c5fc1d204f5d07edfdecb69': (976578405464602465,\n  976675535529151465),\n '0xe902f901801f51385817a84fda42dc4f87d46a94': (7180437141586932693,\n  7200312141586932693),\n '0xbd6ba936d36ed49350037b75078f1ad30b88cdb6': (51870888000000000,\n  5586057408000000000),\n '0x0aa7420c43b8c1a7b165d216948870c8ecfe1ee1': (0, 0),\n '0xa147851e89fc5a505ca1122bccd9f01058b4afb7': (325087798395263364,\n  168054935338395263364),\n '0x06da0fd433c1a5d7a4faa01111c044910a184553': (0, 0),\n '0x00c9186b63349befe288565e13d0fe90c3ae9296': (0, 0),\n '0x41bf3c5167494cbca4c08122237c1620a78267ab': (141536173980078321,\n  151335571282257465),\n '0x9008d19f58aabd9ed0d60971565aa8510560ab41': (58615293985490207,\n  58615293985490207),\n '0xc64dfba2b37aba0610259a73894963663e78df5f': (1570159700000004200,\n  1707247280000004200),\n '0xbdb468e280c2d29220f0df5445388459b69ef6b7': (31164516775617200,\n  36371042674094500),\n '0x74ac706873c399dfc73a4679b1e1fbf474c306e1': (0, 0),\n '0xaf7bbcfb1c1f987e0ae409c684289b332a425254': (2431249746760387323,\n  2423570617058521580),\n '0x065e3dbafcb2c26a978720f9eb4bce6ad9d644a1': (26019595180325292465,\n  25959835741554690073),\n '0x397ff1542f962076d0bfe58ea045ffa2d347aca0': (0, 0),\n '0x6b175474e89094c44da98b954eedeac495271d0f': (0, 0),\n '0x11199a9ee50127f335b84a1eeb961d8a85147f5f': (0, 0),\n '0x891dee0483ebaa922e274ddd2ebbaa2d33468a38': (0, 0),\n '0x1a33c8c8f10ea42fadcc0a7a368e86c51ff20932': (242319927217616928,\n  243589015536387854),\n '0xe38f942db7a1b4213d6213f70c499b59287b01f1': (0, 0),\n '0xce84867c3c02b05dc570d0135103d3fb9cc19433': (0, 0),\n '0xbe4274dfb7801948e2cc2a913744e9498ddc8d20': (0, 0),\n '0xcd80c916b1194beb48abf007d0b79a7238436d56': (0, 0),\n '0x356e92663875af45bf85ef664d188f5eb089382d': (19552514004021461,\n  22897492056771161),\n '0x0000c3caa36e2d9a8cd5269c976ede05018f0000': (10094723955507868832,\n  2907010660238922537),\n '0x598ae17692bc5b08e9078412dc883d3c92cd462a': (18974620818667826,\n  24069617818667826),\n '0x1373c0d10adef4fd9c93f42c5935194abdcc65f6': (14755827699218956,\n  14609826181094956),\n '0x2c77a123425f47eb1ef9ad3c1e69367ef9b752a3': (115001119829889817,\n  118304519829889817),\n '0x40d68c490bf7262ec40048099aec23535f734be2': (9443263125752872176,\n  4446971102909147176),\n '0xe2b1b8fc3d47b88343c035ef62435be364084b7f': (5712800000000000000,\n  5712800000000000000),\n '0xc476d9fe0c1491457afe36b580d46cd304c4ec4f': (0, 0),\n '0xe8db823d5d17fac0ab7183e03f688de0ce63de15': (899780275276720013,\n  897539100920712593),\n '0x81bb44f2b0d308384340b117eb249224eaca5972': (124417561702071217,\n  121237123200449069),\n '0x9f13a1aa67c2318d88c975e932fa1a3857685699': (0, 0),\n '0x0e824d5f934ad01a603101d6a41d723c1702822b': (0, 0),\n '0x158e6b252595e93cdde6bea203b02fcb958e23de': (34503449768678880,\n  34503449768678880),\n '0x4ddc2d193948926d02f9b1fe9e1daa0718270ed5': (203358289808643316999816,\n  203295903402865288089620),\n '0x0000005b4c6b3d00a76b1b5391d5088f9a0c6c5d': (10692111908701132959,\n  10440697799675091679),\n '0x38accdeb1c62dade625bcabdca85701d5f6c8618': (2797594210910420765,\n  2823174549173569209),\n '0xd16463ef9b0338ce3d73309028ef1714d220c024': (0, 0),\n '0x0f9f18d18c8227a276375940b39ca086fbde1604': (2251729475653972189,\n  2248428056505301189),\n '0xf6a8e47daeeddcce297e7541523e27df2f167bf3': (0, 0),\n '0xf2e1e45ab9d9676b2edb127daddbb777d48a05da': (4963753886254536,\n  6833613461523036),\n '0xd784927ff2f95ba542bfc824c8a8a98f3495f6b5': (0, 0),\n '0x2c537e5624e4af88a7ae4060c022609376c8d0eb': (0, 0),\n '0xf10363d5386b8edd9e45ac480765da241cc0b5b4': (114983989001197557,\n  118287389001197557),\n '0xa16eec8476d15caf3908a0eef9458a79908f15b5': (1001169632475068000,\n  1001169632475068000),\n '0xb802fb0f2e4c3d96e6b55686a8a617f28847f5fd': (46572552580955266,\n  46572552580955266),\n '0xe1400e7f92b9d693e7bbd4262b5f10305fd6b14e': (0, 58590650000000000),\n '0x571e1ce87206f9e1435af5679fbc3828ac0970c1': (5213236755444339397,\n  5210794824377143389),\n '0x3363bae2fc44da742df13cd3ee94b6bb868ea376': (0, 0),\n '0xca7534a38dd87d98451649593d813f270114c54a': (0, 18000000000000000),\n '0x53a04c9edb6760414503929b28ff3994a1036447': (0, 19200000000000000),\n '0x3ba3893fde7e06eaf13a4c06e190147b867c82fb': (51997844508239922,\n  52271063751007922),\n '0x292f04a44506c2fd49bac032e1ca148c35a478c8': (938505585090671852533,\n  938498234687175155601),\n '0x96392bb09106f6fc2c60b8b9a838faa0045825e6': (0, 0),\n '0xbf73ed48596565f1abdbeb28fdf6a330930fe331': (95549843555763628201,\n  95549143318551016640),\n '0x3567f0392741a2a41bdac0072054c1c3935fbb7c': (0, 0),\n '0x4e851b30fecfd434340c3afa661096ac366b869a': (359634738168044835,\n  355504038168044835),\n '0x2847a5d7ce69790cb40471d454feb21a0be1f2e3': (0, 0),\n '0x5c12625d870ac2a93f4e08318ba4bf0c5c0c4270': (0, 0),\n '0xd5924f7910b6cc30613eacbd908a908349052ace': (0, 0),\n '0x68e8001a4f6e66023bf490470a07dd2fe340e4bd': (133333587617042614,\n  333333587617042614),\n '0x4bb0925fa50da9b4c8936869433b48e78ccc5c13': (0, 0),\n '0xc1e088fc1323b20bcbee9bd1b9fc9546db5624c5': (0, 0),\n '0xc7910874a7dcee4dae9d6ebe9e5982548814597d': (209750035501098988,\n  209677666634862788),\n '0x8f741cd7172f97102954981ef0f33ac4526585e1': (908053626922508837,\n  860218541850341012),\n '0x0fb88df769f8675dc23280594f0aa9e0df3ef522': (314138979946450629,\n  311133653540095629),\n '0x2a0ef12beef14b94bea99fc7189a90f004ba9538': (0, 0),\n '0xc558f600b34a5f69dd2f0d06cb8a88d829b7420a': (0, 0),\n '0x4d224452801aced8b2f0aebe155379bb5d594381': (0, 0),\n '0x8376ac6c3f73a25dd994e0b0669ca7ee0c02f089': (0, 0),\n '0x81145aef0e4c35c876cbe62b01b2debe2eaeabfd': (10634360520624527,\n  10513463921577527),\n '0xe3577e2db6240135d49358771e03749c6c882485': (56518723083799000,\n  55615831355620000),\n '0xb2ad164c008da54fceac79ef18c0a8fe2d935865': (0, 0),\n '0xc3afdc54c93ae8cbdaf3b89bc7e0aa904f59178c': (0, 298587050000000000),\n '0xbca06a690ae066ba071f78d099cde7d57b191662': (0, 3950880000000000),\n '0x14d8eaf4d58f78910da47fc2534489cc9d1eaee9': (5217113130891828684,\n  5235345418072879343),\n '0x29addbcc5f1ff2d54ff1eb6cf014e6d1e309b54f': (464626280448914979,\n  466196872034004979),\n '0x8c1c499b1796d7f3c2521ac37186b52de024e58c': (0, 0),\n '0x100f1a940f5ab82c5472701abeef19763c296a6d': (1292833724681274373,\n  1293729139017276073),\n '0xb6821646c89f6d633964f7019adba0997676038d': (80597962373276738,\n  72595849356726373),\n '0x5a21da3f8002ca5ae70a3bf5bf4fab139939403b': (2984615410339315117,\n  2978918882350135117),\n '0x4137c9107f32f6bf758c28ebe934c0d5a77fcf19': (0, 0),\n '0xba3cdd2df453787ae14b3894de61fb11fbd50955': (0, 61500000000000000),\n '0x7fd379d9ff1e7e2e0a789fd9ecb5ed8d780797f9': (29156971424478505,\n  25953828638470224),\n '0x173f8e872d15033283b9cc8da1b2a24bb96e810d': (15237560023175200002,\n  15271757377895907002),\n '0xa939f39df891710033f2f413e74c2919765e8cef': (0, 242375000000000000),\n '0x95e97aab5c5c4c974c87167c2fb97f451771308c': (0, 0),\n '0x101729f348d36bf4fc64947a76463531a501bb2a': (62817762909710300,\n  61748225239826933),\n '0xf461ea055db219996d59ee6e01fd551271908ad1': (77178923747330025,\n  75491105878319920),\n '0x090185f2135308bad17527004364ebcc2d37e5f6': (0, 0),\n '0x680a2fc08207cb42fddcb066c6730b19ff2e3969': (4596244912193873,\n  9596244912193873),\n '0xd2ef23ea827e80d88073496c568543570caefccf': (81306542422632564,\n  82743534901817964),\n '0xd6a062cae6123c158768a5c444ca0896cc60d6b1': (25496382188724440079780,\n  25568342288724440079780),\n '0x85e83cecb592b16543d991f3706f17c1d5b997e4': (0, 0),\n '0x8642a849d0dcb7a15a974794668adcfbe4794b56': (0, 0),\n '0x317950d8d6a9fd72bd06fd3a739c37c0ca1fafef': (47980683214878800,\n  46417761504504321),\n '0x821e28109872cad442da8d8335be37d317d4f1e7': (984117343767862910,\n  985535812153279166),\n '0xa68f336234fbb22ec1e61eaed35aae18aaff3ba8': (0, 0),\n '0xfc1726c4ead2393fa14407ff54b336e2c8bb4aca': (0, 0),\n '0x862c9b564fbdd34983ed3655aa9f68e0ed86c620': (0, 0),\n '0xff059d87096d1edf40ab0af9f1bd32efebcfb386': (670426359770679647,\n  670877607196105962),\n '0x0f8361ef329b43fa48ac66a7cd8f619c517274f1': (812851655602236454,\n  881476144330686422),\n '0x2cd4ad82b0ff98c1792b7d0948f08e82c40cd9c4': (189329993132252506,\n  166704635954414006),\n '0xf0cf6b2af598c1f2909e148cbc5f5cc7c27b878b': (290156203149017594815,\n  950904992488851113348),\n '0xca3dde44ca4101e6efa3e13a8d2a87310db45c19': (0, 0),\n '0x6226e00bcac68b0fe55583b90a1d727c14fab77f': (0, 0),\n '0xe0fafa140ec4f505b3a74ad4ecc717da97dc54e1': (224322182503668088,\n  194302372503645665),\n '0x1061fd6eaa5eaa8ae5575dda541a328312e6c6cc': (0, 19300000000000000),\n '0x45bf6dec6d40d5ba1ea0bb32f295757f11148e0c': (46094217152062208,\n  52362617152062208),\n '0x36f0151ee9a7e13376d9eefcd4762d4e7f817217': (180000000000000,\n  11658360000000000),\n ...}"
     },
     "execution_count": 98,
     "metadata": {},
     "output_type": "execute_result"
    }
   ],
   "source": [
    "address_balance"
   ],
   "metadata": {
    "collapsed": false,
    "pycharm": {
     "name": "#%%\n"
    }
   }
  },
  {
   "cell_type": "code",
   "execution_count": 112,
   "outputs": [],
   "source": [
    "account_balance_block = pd.DataFrame(columns=[\"Address\", \"Balance Mainnet\", \"Balance Fork\", \"Difference\"])"
   ],
   "metadata": {
    "collapsed": false,
    "pycharm": {
     "name": "#%%\n"
    }
   }
  },
  {
   "cell_type": "code",
   "execution_count": 113,
   "outputs": [
    {
     "data": {
      "text/plain": "Empty DataFrame\nColumns: [Address, Balance Mainnet, Balance Fork, Difference]\nIndex: []",
      "text/html": "<div>\n<style scoped>\n    .dataframe tbody tr th:only-of-type {\n        vertical-align: middle;\n    }\n\n    .dataframe tbody tr th {\n        vertical-align: top;\n    }\n\n    .dataframe thead th {\n        text-align: right;\n    }\n</style>\n<table border=\"1\" class=\"dataframe\">\n  <thead>\n    <tr style=\"text-align: right;\">\n      <th></th>\n      <th>Address</th>\n      <th>Balance Mainnet</th>\n      <th>Balance Fork</th>\n      <th>Difference</th>\n    </tr>\n  </thead>\n  <tbody>\n  </tbody>\n</table>\n</div>"
     },
     "execution_count": 113,
     "metadata": {},
     "output_type": "execute_result"
    }
   ],
   "source": [
    "account_balance_block"
   ],
   "metadata": {
    "collapsed": false,
    "pycharm": {
     "name": "#%%\n"
    }
   }
  },
  {
   "cell_type": "code",
   "execution_count": 114,
   "outputs": [],
   "source": [
    "for index, address in enumerate(address_balance):\n",
    "    account_balance_block.loc[index] = \\\n",
    "        [address, address_balance[address][0], address_balance[address][1], abs(address_balance[address][0] - address_balance[address][1])]\n"
   ],
   "metadata": {
    "collapsed": false,
    "pycharm": {
     "name": "#%%\n"
    }
   }
  },
  {
   "cell_type": "code",
   "execution_count": 124,
   "outputs": [
    {
     "data": {
      "text/plain": "                                         Address            Balance Mainnet  \\\n720   0xc098b2a3aa256d2140208c3de6543aaef5cd3a94   240037431426329856682553   \n4779  0xcde35b62c27d70b279cf7d0aa1212ffa9e938cef    29893250051711144341602   \n4513  0x712d0f306956a6a4b4f9319ad9b9de48c5345996    30000835173121074447776   \n2883  0x5c311563ea0bb8f9ca2471012eb2f495bd687d18        1403876232110159558   \n4731  0xccfa0530b9d52f970d1a2daea670ce58e4176389        3109130456810473349   \n196   0xc02aaa39b223fe8d0a0e5c4f27ead9083c756cc2  3020083538721853989899459   \n1264  0xdc24316b9ae028f1497c275eb9192a3ea0f67022   156717733589699128176660   \n3695  0xc333e80ef2dec2805f239e3f1e810612d294f771        3587565214862466874   \n3188  0x9a70ea2ac2f1966dbd6d4500f6ec1176efb285ac                          0   \n1557  0x05cdb1526f6e224e02919a4c018d9784ea25eb3d     3826909629169410448250   \n1779  0xeae33deef684802dd05b7026d09fe9831edb7b37                          0   \n1568  0xa9f00c00ea5fd167da64917267e60f9d9430b321     6375794895385057958023   \n1823  0xeec534a341335588219b096c20fa256b4c2b46d9        6082396412259902331   \n4004  0x25eaff5b179f209cf186b1cdcbfa463a69df4c45   223651926006956383539208   \n93    0x2d3163874eb816ee4ae2bed01c4b9c2d4a1b5ae4          85822983994144654   \n3496  0x124a863e9fa5393db10db10a92ddad8522df96fa       40220640552024099020   \n4436  0xd96ea3bcce83d4e1ef8abd1776eecd0cea1bb09e         136249299602257025   \n4077  0x8315177ab297ba92a06054ce80a67ed4dbd7ed3a   702902347519896847101442   \n2383  0xbf891e7efcc98a8239385d3172ba10ad593c7886                          0   \n664   0x66fb1cd65b97fa40457b90b7d1ca6b92cb64b32b     1077793965137311805907   \n1279  0xe8b22a88deb45c7848d394fd039b8d811511a9f3       88481777545440353078   \n56    0x6bae14436531a27d08a524d9ce32c22ae88fb969          19812090394131179   \n1806  0x4302c27398994a37d1cae83e5b49e40de9e3658d          13905880291561449   \n2939  0xee8e0fcc8bff03ec5f100d02cb7b3196d78863a7     2508784299218972258009   \n2481  0x2533c4d0a4cf1f866ab11646c08d51a935f226ee             46182761058000   \n2414  0x1ee1b34e66ed1d4a43e88cc21b6a20c06659bf0d         106923930938576909   \n595   0x46919f4016befb3c9a01e72a1cfc395695276a01         281548289499432664   \n84    0xb928bb72c9b5ebc6de4d7f288df85fed3958c9ee                          0   \n2904  0xf7626459234e9249808a06aa08dc6b67c8e0a2fc          87436232561544017   \n3869  0x757db7c1d65b1d3144e2afb3de8aa3d6ee87594c      662863617909965359895   \n\n                   Balance Fork               Difference  \n720    154285471424849120278918  85751960001480736403635  \n4779    50125516961231144341602  20232266909520000000000  \n4513    10000800618699393825770  20000034554421680622006  \n2883    15785947502340066929263  15784543626107956769705  \n4731    14923094210456810473349  14919985080000000000000  \n196   3028240115597582003021569   8156576875728013122110  \n1264   149946442140016474179616   6771291449682653997044  \n3695     6264081565214862466874   6260494000000000000000  \n3188     3825000000000000000000   3825000000000000000000  \n1557        1989629169410448250   3824920000000000000000  \n1779     2733950000000000000000   2733950000000000000000  \n1568     8375794895385057958023   2000000000000000000000  \n1823     1606471850631954970764   1600389454219695068433  \n4004   222069156092946379522614   1582769914010004016594  \n93       1576396322973994144654   1576310499990000000000  \n3496     1346877939952024099020   1306657299400000000000  \n4436     1199899775106971249725   1199763525807368992700  \n4077   704047448160822098203305   1145100640925251101863  \n2383     1103884647380000000000   1103884647380000000000  \n664      2154793965137311805907   1077000000000000000000  \n1279     1094061958065440353078   1005580180520000000000  \n56       1000116811990394131179   1000096999900000000000  \n1806     1000063905880291561449   1000050000000000000000  \n2939     3508784299218972258009   1000000000000000000000  \n2481      932980046182761058000    932980000000000000000  \n2414      784156923930938576909    784050000000000000000  \n595       739607125689337820280    739325577399838387616  \n84        728710000000000000000    728710000000000000000  \n2904      702217364102561544017    702129927870000000000  \n3869     1325726694489965359895    662863076580000000000  ",
      "text/html": "<div>\n<style scoped>\n    .dataframe tbody tr th:only-of-type {\n        vertical-align: middle;\n    }\n\n    .dataframe tbody tr th {\n        vertical-align: top;\n    }\n\n    .dataframe thead th {\n        text-align: right;\n    }\n</style>\n<table border=\"1\" class=\"dataframe\">\n  <thead>\n    <tr style=\"text-align: right;\">\n      <th></th>\n      <th>Address</th>\n      <th>Balance Mainnet</th>\n      <th>Balance Fork</th>\n      <th>Difference</th>\n    </tr>\n  </thead>\n  <tbody>\n    <tr>\n      <th>720</th>\n      <td>0xc098b2a3aa256d2140208c3de6543aaef5cd3a94</td>\n      <td>240037431426329856682553</td>\n      <td>154285471424849120278918</td>\n      <td>85751960001480736403635</td>\n    </tr>\n    <tr>\n      <th>4779</th>\n      <td>0xcde35b62c27d70b279cf7d0aa1212ffa9e938cef</td>\n      <td>29893250051711144341602</td>\n      <td>50125516961231144341602</td>\n      <td>20232266909520000000000</td>\n    </tr>\n    <tr>\n      <th>4513</th>\n      <td>0x712d0f306956a6a4b4f9319ad9b9de48c5345996</td>\n      <td>30000835173121074447776</td>\n      <td>10000800618699393825770</td>\n      <td>20000034554421680622006</td>\n    </tr>\n    <tr>\n      <th>2883</th>\n      <td>0x5c311563ea0bb8f9ca2471012eb2f495bd687d18</td>\n      <td>1403876232110159558</td>\n      <td>15785947502340066929263</td>\n      <td>15784543626107956769705</td>\n    </tr>\n    <tr>\n      <th>4731</th>\n      <td>0xccfa0530b9d52f970d1a2daea670ce58e4176389</td>\n      <td>3109130456810473349</td>\n      <td>14923094210456810473349</td>\n      <td>14919985080000000000000</td>\n    </tr>\n    <tr>\n      <th>196</th>\n      <td>0xc02aaa39b223fe8d0a0e5c4f27ead9083c756cc2</td>\n      <td>3020083538721853989899459</td>\n      <td>3028240115597582003021569</td>\n      <td>8156576875728013122110</td>\n    </tr>\n    <tr>\n      <th>1264</th>\n      <td>0xdc24316b9ae028f1497c275eb9192a3ea0f67022</td>\n      <td>156717733589699128176660</td>\n      <td>149946442140016474179616</td>\n      <td>6771291449682653997044</td>\n    </tr>\n    <tr>\n      <th>3695</th>\n      <td>0xc333e80ef2dec2805f239e3f1e810612d294f771</td>\n      <td>3587565214862466874</td>\n      <td>6264081565214862466874</td>\n      <td>6260494000000000000000</td>\n    </tr>\n    <tr>\n      <th>3188</th>\n      <td>0x9a70ea2ac2f1966dbd6d4500f6ec1176efb285ac</td>\n      <td>0</td>\n      <td>3825000000000000000000</td>\n      <td>3825000000000000000000</td>\n    </tr>\n    <tr>\n      <th>1557</th>\n      <td>0x05cdb1526f6e224e02919a4c018d9784ea25eb3d</td>\n      <td>3826909629169410448250</td>\n      <td>1989629169410448250</td>\n      <td>3824920000000000000000</td>\n    </tr>\n    <tr>\n      <th>1779</th>\n      <td>0xeae33deef684802dd05b7026d09fe9831edb7b37</td>\n      <td>0</td>\n      <td>2733950000000000000000</td>\n      <td>2733950000000000000000</td>\n    </tr>\n    <tr>\n      <th>1568</th>\n      <td>0xa9f00c00ea5fd167da64917267e60f9d9430b321</td>\n      <td>6375794895385057958023</td>\n      <td>8375794895385057958023</td>\n      <td>2000000000000000000000</td>\n    </tr>\n    <tr>\n      <th>1823</th>\n      <td>0xeec534a341335588219b096c20fa256b4c2b46d9</td>\n      <td>6082396412259902331</td>\n      <td>1606471850631954970764</td>\n      <td>1600389454219695068433</td>\n    </tr>\n    <tr>\n      <th>4004</th>\n      <td>0x25eaff5b179f209cf186b1cdcbfa463a69df4c45</td>\n      <td>223651926006956383539208</td>\n      <td>222069156092946379522614</td>\n      <td>1582769914010004016594</td>\n    </tr>\n    <tr>\n      <th>93</th>\n      <td>0x2d3163874eb816ee4ae2bed01c4b9c2d4a1b5ae4</td>\n      <td>85822983994144654</td>\n      <td>1576396322973994144654</td>\n      <td>1576310499990000000000</td>\n    </tr>\n    <tr>\n      <th>3496</th>\n      <td>0x124a863e9fa5393db10db10a92ddad8522df96fa</td>\n      <td>40220640552024099020</td>\n      <td>1346877939952024099020</td>\n      <td>1306657299400000000000</td>\n    </tr>\n    <tr>\n      <th>4436</th>\n      <td>0xd96ea3bcce83d4e1ef8abd1776eecd0cea1bb09e</td>\n      <td>136249299602257025</td>\n      <td>1199899775106971249725</td>\n      <td>1199763525807368992700</td>\n    </tr>\n    <tr>\n      <th>4077</th>\n      <td>0x8315177ab297ba92a06054ce80a67ed4dbd7ed3a</td>\n      <td>702902347519896847101442</td>\n      <td>704047448160822098203305</td>\n      <td>1145100640925251101863</td>\n    </tr>\n    <tr>\n      <th>2383</th>\n      <td>0xbf891e7efcc98a8239385d3172ba10ad593c7886</td>\n      <td>0</td>\n      <td>1103884647380000000000</td>\n      <td>1103884647380000000000</td>\n    </tr>\n    <tr>\n      <th>664</th>\n      <td>0x66fb1cd65b97fa40457b90b7d1ca6b92cb64b32b</td>\n      <td>1077793965137311805907</td>\n      <td>2154793965137311805907</td>\n      <td>1077000000000000000000</td>\n    </tr>\n    <tr>\n      <th>1279</th>\n      <td>0xe8b22a88deb45c7848d394fd039b8d811511a9f3</td>\n      <td>88481777545440353078</td>\n      <td>1094061958065440353078</td>\n      <td>1005580180520000000000</td>\n    </tr>\n    <tr>\n      <th>56</th>\n      <td>0x6bae14436531a27d08a524d9ce32c22ae88fb969</td>\n      <td>19812090394131179</td>\n      <td>1000116811990394131179</td>\n      <td>1000096999900000000000</td>\n    </tr>\n    <tr>\n      <th>1806</th>\n      <td>0x4302c27398994a37d1cae83e5b49e40de9e3658d</td>\n      <td>13905880291561449</td>\n      <td>1000063905880291561449</td>\n      <td>1000050000000000000000</td>\n    </tr>\n    <tr>\n      <th>2939</th>\n      <td>0xee8e0fcc8bff03ec5f100d02cb7b3196d78863a7</td>\n      <td>2508784299218972258009</td>\n      <td>3508784299218972258009</td>\n      <td>1000000000000000000000</td>\n    </tr>\n    <tr>\n      <th>2481</th>\n      <td>0x2533c4d0a4cf1f866ab11646c08d51a935f226ee</td>\n      <td>46182761058000</td>\n      <td>932980046182761058000</td>\n      <td>932980000000000000000</td>\n    </tr>\n    <tr>\n      <th>2414</th>\n      <td>0x1ee1b34e66ed1d4a43e88cc21b6a20c06659bf0d</td>\n      <td>106923930938576909</td>\n      <td>784156923930938576909</td>\n      <td>784050000000000000000</td>\n    </tr>\n    <tr>\n      <th>595</th>\n      <td>0x46919f4016befb3c9a01e72a1cfc395695276a01</td>\n      <td>281548289499432664</td>\n      <td>739607125689337820280</td>\n      <td>739325577399838387616</td>\n    </tr>\n    <tr>\n      <th>84</th>\n      <td>0xb928bb72c9b5ebc6de4d7f288df85fed3958c9ee</td>\n      <td>0</td>\n      <td>728710000000000000000</td>\n      <td>728710000000000000000</td>\n    </tr>\n    <tr>\n      <th>2904</th>\n      <td>0xf7626459234e9249808a06aa08dc6b67c8e0a2fc</td>\n      <td>87436232561544017</td>\n      <td>702217364102561544017</td>\n      <td>702129927870000000000</td>\n    </tr>\n    <tr>\n      <th>3869</th>\n      <td>0x757db7c1d65b1d3144e2afb3de8aa3d6ee87594c</td>\n      <td>662863617909965359895</td>\n      <td>1325726694489965359895</td>\n      <td>662863076580000000000</td>\n    </tr>\n  </tbody>\n</table>\n</div>"
     },
     "execution_count": 124,
     "metadata": {},
     "output_type": "execute_result"
    }
   ],
   "source": [
    "account_balance_block.sort_values(by=\"Difference\", ascending=False)[:30]"
   ],
   "metadata": {
    "collapsed": false,
    "pycharm": {
     "name": "#%%\n"
    }
   }
  },
  {
   "cell_type": "code",
   "execution_count": 122,
   "outputs": [
    {
     "data": {
      "text/plain": "Decimal('225200.952520348964353832')"
     },
     "execution_count": 122,
     "metadata": {},
     "output_type": "execute_result"
    }
   ],
   "source": [
    "web3_erigon.fromWei(account_balance_block[\"Difference\"].sum(), \"ether\")"
   ],
   "metadata": {
    "collapsed": false,
    "pycharm": {
     "name": "#%%\n"
    }
   }
  },
  {
   "cell_type": "code",
   "execution_count": 1,
   "outputs": [
    {
     "ename": "NameError",
     "evalue": "name 'web3_erigon' is not defined",
     "output_type": "error",
     "traceback": [
      "\u001B[0;31m---------------------------------------------------------------------------\u001B[0m",
      "\u001B[0;31mNameError\u001B[0m                                 Traceback (most recent call last)",
      "Cell \u001B[0;32mIn [1], line 1\u001B[0m\n\u001B[0;32m----> 1\u001B[0m \u001B[43mweb3_erigon\u001B[49m\u001B[38;5;241m.\u001B[39mfromWei(\u001B[38;5;241m20000034554421680622006\u001B[39m, \u001B[38;5;124m\"\u001B[39m\u001B[38;5;124mether\u001B[39m\u001B[38;5;124m\"\u001B[39m)\n",
      "\u001B[0;31mNameError\u001B[0m: name 'web3_erigon' is not defined"
     ]
    }
   ],
   "source": [
    "web3_erigon.fromWei(20000034554421680622006, \"ether\")"
   ],
   "metadata": {
    "collapsed": false,
    "pycharm": {
     "name": "#%%\n"
    }
   }
  },
  {
   "cell_type": "code",
   "execution_count": 125,
   "outputs": [],
   "source": [
    "account_balance_block.to_csv(\"csv/account_balance_blocks.csv\")"
   ],
   "metadata": {
    "collapsed": false,
    "pycharm": {
     "name": "#%%\n"
    }
   }
  },
  {
   "cell_type": "code",
   "execution_count": null,
   "outputs": [],
   "source": [],
   "metadata": {
    "collapsed": false,
    "pycharm": {
     "name": "#%%\n"
    }
   }
  }
 ],
 "metadata": {
  "kernelspec": {
   "name": "web3env",
   "language": "python",
   "display_name": "web3env"
  },
  "language_info": {
   "codemirror_mode": {
    "name": "ipython",
    "version": 2
   },
   "file_extension": ".py",
   "mimetype": "text/x-python",
   "name": "python",
   "nbconvert_exporter": "python",
   "pygments_lexer": "ipython2",
   "version": "2.7.6"
  }
 },
 "nbformat": 4,
 "nbformat_minor": 0
}